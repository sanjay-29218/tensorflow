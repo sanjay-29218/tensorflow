{
  "nbformat": 4,
  "nbformat_minor": 0,
  "metadata": {
    "colab": {
      "provenance": [],
      "collapsed_sections": [],
      "authorship_tag": "ABX9TyOnmwXdgu/+eIr0H0cjHmva",
      "include_colab_link": true
    },
    "kernelspec": {
      "name": "python3",
      "display_name": "Python 3"
    },
    "language_info": {
      "name": "python"
    }
  },
  "cells": [
    {
      "cell_type": "markdown",
      "metadata": {
        "id": "view-in-github",
        "colab_type": "text"
      },
      "source": [
        "<a href=\"https://colab.research.google.com/github/sanjay-29218/tensorflow/blob/main/02_Tensorflow.ipynb\" target=\"_parent\"><img src=\"https://colab.research.google.com/assets/colab-badge.svg\" alt=\"Open In Colab\"/></a>"
      ]
    },
    {
      "cell_type": "markdown",
      "source": [
        "Resources: Hands-On Machine Learning with scikit-Learn, Kerass and TensorFlow,2nd edition"
      ],
      "metadata": {
        "id": "d6kvzVz4QLux"
      }
    },
    {
      "cell_type": "markdown",
      "source": [
        "### Introduction to Regression with Neural Network in TensorFlow\n",
        "\n",
        "Regression: Predicting a numerical variable based on some other combination of variable"
      ],
      "metadata": {
        "id": "1S8hduj-Ufqk"
      }
    },
    {
      "cell_type": "code",
      "source": [
        "import tensorflow as tf"
      ],
      "metadata": {
        "id": "Ky6TO2M-WDZZ"
      },
      "execution_count": 183,
      "outputs": []
    },
    {
      "cell_type": "code",
      "source": [
        "print(tf.__version__)"
      ],
      "metadata": {
        "colab": {
          "base_uri": "https://localhost:8080/"
        },
        "id": "MKVVvdncWwe6",
        "outputId": "0dc2de4e-c2fa-4c14-b572-05cd196c6432"
      },
      "execution_count": 184,
      "outputs": [
        {
          "output_type": "stream",
          "name": "stdout",
          "text": [
            "2.8.2\n"
          ]
        }
      ]
    },
    {
      "cell_type": "markdown",
      "source": [
        "## Creating data to view and fit"
      ],
      "metadata": {
        "id": "a2tjQczkWzgu"
      }
    },
    {
      "cell_type": "code",
      "source": [
        "import numpy as np\n",
        "import matplotlib.pyplot as plt\n",
        "\n",
        "# Create feature\n",
        "X = np.array([-7.0,-5.0,-3.0,-1.0,2.0,4.0,6.0,10.0,12.0])\n",
        "\n",
        "# Create labels\n",
        "y = np.array([3.0,5.0,7.0,9.0,12.0,14.0,16.0,20.0,22.0])\n",
        "\n",
        "#visualize it\n",
        "plt.scatter(X,y);"
      ],
      "metadata": {
        "colab": {
          "base_uri": "https://localhost:8080/",
          "height": 265
        },
        "id": "cXj8Fhr_W8JP",
        "outputId": "c8c31667-1bbf-4c4c-df62-bef95cb5af87"
      },
      "execution_count": 30,
      "outputs": [
        {
          "output_type": "display_data",
          "data": {
            "text/plain": [
              "<Figure size 432x288 with 1 Axes>"
            ],
            "image/png": "[encoded data removed]"
          },
          "metadata": {
            "needs_background": "light"
          }
        }
      ]
    },
    {
      "cell_type": "code",
      "source": [
        "y == X + 10"
      ],
      "metadata": {
        "colab": {
          "base_uri": "https://localhost:8080/"
        },
        "id": "Fu5CbmjRcGPG",
        "outputId": "11c6b2d1-71a8-40d7-d0bd-bd2d010b56c7"
      },
      "execution_count": 31,
      "outputs": [
        {
          "output_type": "execute_result",
          "data": {
            "text/plain": [
              "array([ True,  True,  True,  True,  True,  True,  True,  True,  True])"
            ]
          },
          "metadata": {},
          "execution_count": 31
        }
      ]
    },
    {
      "cell_type": "markdown",
      "source": [
        "## Input and Output shapes"
      ],
      "metadata": {
        "id": "RTE_OKH_fCB0"
      }
    },
    {
      "cell_type": "code",
      "source": [
        "# Create a demo tensor for our housing price prediction problem\n",
        "house_info = tf.constant([1,2,3])\n",
        "house_price = tf.constant([939700])\n",
        "house_info, house_price"
      ],
      "metadata": {
        "colab": {
          "base_uri": "https://localhost:8080/"
        },
        "id": "0vOPUrGEuCFI",
        "outputId": "ad2d72d9-4336-4171-fe8d-c3d7435f2cee"
      },
      "execution_count": 32,
      "outputs": [
        {
          "output_type": "execute_result",
          "data": {
            "text/plain": [
              "(<tf.Tensor: shape=(3,), dtype=int32, numpy=array([1, 2, 3], dtype=int32)>,\n",
              " <tf.Tensor: shape=(1,), dtype=int32, numpy=array([939700], dtype=int32)>)"
            ]
          },
          "metadata": {},
          "execution_count": 32
        }
      ]
    },
    {
      "cell_type": "code",
      "source": [
        "X[0],y[0]"
      ],
      "metadata": {
        "colab": {
          "base_uri": "https://localhost:8080/"
        },
        "id": "5D_fQRgKffI7",
        "outputId": "3eef4da6-0e86-4b24-8cfa-d58401ceada9"
      },
      "execution_count": 33,
      "outputs": [
        {
          "output_type": "execute_result",
          "data": {
            "text/plain": [
              "(-7.0, 3.0)"
            ]
          },
          "metadata": {},
          "execution_count": 33
        }
      ]
    },
    {
      "cell_type": "code",
      "source": [
        "input_shape = X[0].shape\n",
        "output_shape = y[0].shape\n",
        "input_shape,output_shape"
      ],
      "metadata": {
        "colab": {
          "base_uri": "https://localhost:8080/"
        },
        "id": "W9HmkLohu4HX",
        "outputId": "4c68509d-7164-4c75-8548-d5b23a622f6b"
      },
      "execution_count": 35,
      "outputs": [
        {
          "output_type": "execute_result",
          "data": {
            "text/plain": [
              "((), ())"
            ]
          },
          "metadata": {},
          "execution_count": 35
        }
      ]
    },
    {
      "cell_type": "code",
      "source": [
        "# Turn our Numpy arrays into tensor\n",
        "X = tf.cast(tf.constant(X ),dtype=tf.float32);\n",
        "y = tf.cast(tf.constant(y),dtype=tf.float32);\n",
        "X,y\n",
        " "
      ],
      "metadata": {
        "colab": {
          "base_uri": "https://localhost:8080/"
        },
        "id": "hlAjM5jAvdmG",
        "outputId": "8af446a0-2d69-4cce-a353-774fac6b03f4"
      },
      "execution_count": 56,
      "outputs": [
        {
          "output_type": "execute_result",
          "data": {
            "text/plain": [
              "(<tf.Tensor: shape=(9,), dtype=float32, numpy=array([-7., -5., -3., -1.,  2.,  4.,  6., 10., 12.], dtype=float32)>,\n",
              " <tf.Tensor: shape=(9,), dtype=float32, numpy=array([ 3.,  5.,  7.,  9., 12., 14., 16., 20., 22.], dtype=float32)>)"
            ]
          },
          "metadata": {},
          "execution_count": 56
        }
      ]
    },
    {
      "cell_type": "markdown",
      "source": [
        "## Steps in modeling with tensorflow\n",
        "1. **Creating a model** - define the input and output layers, as \n",
        "well as the hidden layers of a deep learning model.\n",
        "2. **Compiling a model** - define the loss function (in other words, the function which\n",
        "tells our model how wrong it is) and optimizer (tells our model how to improve \n",
        "its learning) and evaluation metrics (what we can use to interpret the \n",
        "performance of our model).\n",
        "3. **Fitting a model** - letting the model try to find patterns between X & y(feature \n",
        "and labels)"
      ],
      "metadata": {
        "id": "pKiQ2n9Vwq-e"
      }
    },
    {
      "cell_type": "code",
      "source": [
        "# Set random seed\n",
        "tf.random.set_seed(42)"
      ],
      "metadata": {
        "id": "KdfHpoRd0Okr"
      },
      "execution_count": 61,
      "outputs": []
    },
    {
      "cell_type": "code",
      "source": [
        "# Create a model using the Sequential API\n",
        "model = tf.keras.Sequential([\n",
        "  tf.keras.layers.Dense(1)\n",
        "])\n",
        "\n",
        "# Compile the model\n",
        "model.compile(loss=tf.keras.losses.mae, # mae is short for mean absolute error\n",
        "              optimizer=tf.keras.optimizers.SGD(), # SGD is short for stochastic gradient descent\n",
        "              metrics=[\"mae\"])\n",
        "\n",
        "# Fit the model\n",
        "# model.fit(X, y, epochs=5) # this will break with TensorFlow 2.7.0+\n",
        "model.fit(tf.expand_dims(X, axis=-1), y, epochs=5)"
      ],
      "metadata": {
        "colab": {
          "base_uri": "https://localhost:8080/"
        },
        "id": "Xo3CVnQj8ABE",
        "outputId": "2238ff92-c860-463a-8a6c-370ffd0a5e28"
      },
      "execution_count": 62,
      "outputs": [
        {
          "output_type": "stream",
          "name": "stdout",
          "text": [
            "Epoch 1/5\n",
            "1/1 [==============================] - 0s 326ms/step - loss: 10.8599 - mae: 10.8599\n",
            "Epoch 2/5\n",
            "1/1 [==============================] - 0s 9ms/step - loss: 10.8099 - mae: 10.8099\n",
            "Epoch 3/5\n",
            "1/1 [==============================] - 0s 8ms/step - loss: 10.7599 - mae: 10.7599\n",
            "Epoch 4/5\n",
            "1/1 [==============================] - 0s 13ms/step - loss: 10.7099 - mae: 10.7099\n",
            "Epoch 5/5\n",
            "1/1 [==============================] - 0s 10ms/step - loss: 10.6599 - mae: 10.6599\n"
          ]
        },
        {
          "output_type": "execute_result",
          "data": {
            "text/plain": [
              "<keras.callbacks.History at 0x7ff3bf6fa850>"
            ]
          },
          "metadata": {},
          "execution_count": 62
        }
      ]
    },
    {
      "cell_type": "code",
      "source": [
        "#Check out X and Y\n",
        "X , y"
      ],
      "metadata": {
        "colab": {
          "base_uri": "https://localhost:8080/"
        },
        "id": "1jtopHAM9ukz",
        "outputId": "5a4e6a60-ceb1-425b-cf61-134660303745"
      },
      "execution_count": 63,
      "outputs": [
        {
          "output_type": "execute_result",
          "data": {
            "text/plain": [
              "(<tf.Tensor: shape=(9,), dtype=float32, numpy=array([-7., -5., -3., -1.,  2.,  4.,  6., 10., 12.], dtype=float32)>,\n",
              " <tf.Tensor: shape=(9,), dtype=float32, numpy=array([ 3.,  5.,  7.,  9., 12., 14., 16., 20., 22.], dtype=float32)>)"
            ]
          },
          "metadata": {},
          "execution_count": 63
        }
      ]
    },
    {
      "cell_type": "code",
      "source": [
        "# Try and make a prediction using our model\n",
        "model.predict([17.0])"
      ],
      "metadata": {
        "colab": {
          "base_uri": "https://localhost:8080/"
        },
        "id": "RbzYO4J3_iXv",
        "outputId": "2126106c-7c00-4bb3-d147-c50043f593d7"
      },
      "execution_count": 64,
      "outputs": [
        {
          "output_type": "execute_result",
          "data": {
            "text/plain": [
              "array([[11.441017]], dtype=float32)"
            ]
          },
          "metadata": {},
          "execution_count": 64
        }
      ]
    },
    {
      "cell_type": "markdown",
      "source": [
        "### Improving a model\n",
        "How do you think you'd improve upon our current model?\n",
        "\n",
        "If you guessed by tweaking some of the things we did above, you'd be correct.\n",
        "\n",
        "To improve our model, we alter almost every part of the 3 steps we went through before.\n",
        "\n",
        "Creating a model - here you might want to add more layers, increase the number of hidden units (also called neurons) within each layer, change the activation functions of each layer.\n",
        "Compiling a model - you might want to choose optimization function or perhaps change the learning rate of the optimization function.\n",
        "Fitting a model - perhaps you could fit a model for more epochs (leave it training for longer) or on more data (give the model more examples to learn from)."
      ],
      "metadata": {
        "id": "a7SBeWmU_qlU"
      }
    },
    {
      "cell_type": "code",
      "source": [
        "# Let's rebuild the model\n",
        "\n",
        "#1. Create the model\n",
        "model = tf.keras.Sequential([\n",
        "    tf.keras.layers.Dense(1)\n",
        "\n",
        "])\n",
        "\n",
        "#2. Compile the model\n",
        "model.compile(loss=tf.keras.losses.mae,\n",
        "              optimizer=tf.keras.optimizers.Adam(lr=1),\n",
        "              metrics=['mae'])\n",
        "\n",
        "#3. Fit the model\n",
        "model.fit(tf.expand_dims(X,-1),y,epochs=100 )\n"
      ],
      "metadata": {
        "colab": {
          "base_uri": "https://localhost:8080/"
        },
        "id": "gQMuLYW4AVX6",
        "outputId": "cc874e09-8c21-483c-c7c7-d1f322a14fae"
      },
      "execution_count": 83,
      "outputs": [
        {
          "output_type": "stream",
          "name": "stdout",
          "text": [
            "Epoch 1/100\n",
            "1/1 [==============================] - 1s 620ms/step - loss: 9.0915 - mae: 9.0915\n",
            "Epoch 2/100\n",
            "1/1 [==============================] - 0s 16ms/step - loss: 9.2011 - mae: 9.2011\n",
            "Epoch 3/100\n",
            "1/1 [==============================] - 0s 11ms/step - loss: 8.0086 - mae: 8.0086\n",
            "Epoch 4/100\n",
            "1/1 [==============================] - 0s 13ms/step - loss: 5.9873 - mae: 5.9873\n",
            "Epoch 5/100\n",
            "1/1 [==============================] - 0s 14ms/step - loss: 5.8461 - mae: 5.8461\n",
            "Epoch 6/100\n",
            "1/1 [==============================] - 0s 13ms/step - loss: 5.2471 - mae: 5.2471\n",
            "Epoch 7/100\n",
            "1/1 [==============================] - 0s 13ms/step - loss: 4.1724 - mae: 4.1724\n",
            "Epoch 8/100\n",
            "1/1 [==============================] - 0s 13ms/step - loss: 2.7516 - mae: 2.7516\n",
            "Epoch 9/100\n",
            "1/1 [==============================] - 0s 12ms/step - loss: 3.0988 - mae: 3.0988\n",
            "Epoch 10/100\n",
            "1/1 [==============================] - 0s 15ms/step - loss: 2.5662 - mae: 2.5662\n",
            "Epoch 11/100\n",
            "1/1 [==============================] - 0s 15ms/step - loss: 0.8094 - mae: 0.8094\n",
            "Epoch 12/100\n",
            "1/1 [==============================] - 0s 15ms/step - loss: 1.8368 - mae: 1.8368\n",
            "Epoch 13/100\n",
            "1/1 [==============================] - 0s 14ms/step - loss: 2.6924 - mae: 2.6924\n",
            "Epoch 14/100\n",
            "1/1 [==============================] - 0s 11ms/step - loss: 2.5085 - mae: 2.5085\n",
            "Epoch 15/100\n",
            "1/1 [==============================] - 0s 12ms/step - loss: 1.9105 - mae: 1.9105\n",
            "Epoch 16/100\n",
            "1/1 [==============================] - 0s 12ms/step - loss: 2.6823 - mae: 2.6823\n",
            "Epoch 17/100\n",
            "1/1 [==============================] - 0s 9ms/step - loss: 3.2031 - mae: 3.2031\n",
            "Epoch 18/100\n",
            "1/1 [==============================] - 0s 16ms/step - loss: 3.3612 - mae: 3.3612\n",
            "Epoch 19/100\n",
            "1/1 [==============================] - 0s 18ms/step - loss: 3.2582 - mae: 3.2582\n",
            "Epoch 20/100\n",
            "1/1 [==============================] - 0s 12ms/step - loss: 2.7184 - mae: 2.7184\n",
            "Epoch 21/100\n",
            "1/1 [==============================] - 0s 10ms/step - loss: 2.0011 - mae: 2.0011\n",
            "Epoch 22/100\n",
            "1/1 [==============================] - 0s 8ms/step - loss: 1.0866 - mae: 1.0866\n",
            "Epoch 23/100\n",
            "1/1 [==============================] - 0s 9ms/step - loss: 1.6674 - mae: 1.6674\n",
            "Epoch 24/100\n",
            "1/1 [==============================] - 0s 19ms/step - loss: 1.9303 - mae: 1.9303\n",
            "Epoch 25/100\n",
            "1/1 [==============================] - 0s 13ms/step - loss: 1.2502 - mae: 1.2502\n",
            "Epoch 26/100\n",
            "1/1 [==============================] - 0s 13ms/step - loss: 0.6033 - mae: 0.6033\n",
            "Epoch 27/100\n",
            "1/1 [==============================] - 0s 12ms/step - loss: 1.6184 - mae: 1.6184\n",
            "Epoch 28/100\n",
            "1/1 [==============================] - 0s 9ms/step - loss: 1.9195 - mae: 1.9195\n",
            "Epoch 29/100\n",
            "1/1 [==============================] - 0s 9ms/step - loss: 1.4942 - mae: 1.4942\n",
            "Epoch 30/100\n",
            "1/1 [==============================] - 0s 8ms/step - loss: 1.2357 - mae: 1.2357\n",
            "Epoch 31/100\n",
            "1/1 [==============================] - 0s 9ms/step - loss: 1.4176 - mae: 1.4176\n",
            "Epoch 32/100\n",
            "1/1 [==============================] - 0s 9ms/step - loss: 1.3260 - mae: 1.3260\n",
            "Epoch 33/100\n",
            "1/1 [==============================] - 0s 15ms/step - loss: 1.0418 - mae: 1.0418\n",
            "Epoch 34/100\n",
            "1/1 [==============================] - 0s 15ms/step - loss: 0.3787 - mae: 0.3787\n",
            "Epoch 35/100\n",
            "1/1 [==============================] - 0s 15ms/step - loss: 0.7074 - mae: 0.7074\n",
            "Epoch 36/100\n",
            "1/1 [==============================] - 0s 9ms/step - loss: 0.8278 - mae: 0.8278\n",
            "Epoch 37/100\n",
            "1/1 [==============================] - 0s 9ms/step - loss: 0.8178 - mae: 0.8178\n",
            "Epoch 38/100\n",
            "1/1 [==============================] - 0s 10ms/step - loss: 1.0274 - mae: 1.0274\n",
            "Epoch 39/100\n",
            "1/1 [==============================] - 0s 9ms/step - loss: 1.1429 - mae: 1.1429\n",
            "Epoch 40/100\n",
            "1/1 [==============================] - 0s 14ms/step - loss: 0.8089 - mae: 0.8089\n",
            "Epoch 41/100\n",
            "1/1 [==============================] - 0s 13ms/step - loss: 0.9868 - mae: 0.9868\n",
            "Epoch 42/100\n",
            "1/1 [==============================] - 0s 9ms/step - loss: 1.1171 - mae: 1.1171\n",
            "Epoch 43/100\n",
            "1/1 [==============================] - 0s 13ms/step - loss: 0.7524 - mae: 0.7524\n",
            "Epoch 44/100\n",
            "1/1 [==============================] - 0s 9ms/step - loss: 0.3739 - mae: 0.3739\n",
            "Epoch 45/100\n",
            "1/1 [==============================] - 0s 8ms/step - loss: 0.5131 - mae: 0.5131\n",
            "Epoch 46/100\n",
            "1/1 [==============================] - 0s 12ms/step - loss: 0.3472 - mae: 0.3472\n",
            "Epoch 47/100\n",
            "1/1 [==============================] - 0s 13ms/step - loss: 0.5171 - mae: 0.5171\n",
            "Epoch 48/100\n",
            "1/1 [==============================] - 0s 12ms/step - loss: 0.4887 - mae: 0.4887\n",
            "Epoch 49/100\n",
            "1/1 [==============================] - 0s 7ms/step - loss: 0.4064 - mae: 0.4064\n",
            "Epoch 50/100\n",
            "1/1 [==============================] - 0s 7ms/step - loss: 0.1727 - mae: 0.1727\n",
            "Epoch 51/100\n",
            "1/1 [==============================] - 0s 9ms/step - loss: 0.2673 - mae: 0.2673\n",
            "Epoch 52/100\n",
            "1/1 [==============================] - 0s 7ms/step - loss: 0.3881 - mae: 0.3881\n",
            "Epoch 53/100\n",
            "1/1 [==============================] - 0s 7ms/step - loss: 0.4619 - mae: 0.4619\n",
            "Epoch 54/100\n",
            "1/1 [==============================] - 0s 7ms/step - loss: 0.2784 - mae: 0.2784\n",
            "Epoch 55/100\n",
            "1/1 [==============================] - 0s 7ms/step - loss: 0.6780 - mae: 0.6780\n",
            "Epoch 56/100\n",
            "1/1 [==============================] - 0s 15ms/step - loss: 0.3532 - mae: 0.3532\n",
            "Epoch 57/100\n",
            "1/1 [==============================] - 0s 7ms/step - loss: 0.7361 - mae: 0.7361\n",
            "Epoch 58/100\n",
            "1/1 [==============================] - 0s 7ms/step - loss: 0.8859 - mae: 0.8859\n",
            "Epoch 59/100\n",
            "1/1 [==============================] - 0s 7ms/step - loss: 0.3734 - mae: 0.3734\n",
            "Epoch 60/100\n",
            "1/1 [==============================] - 0s 7ms/step - loss: 0.9000 - mae: 0.9000\n",
            "Epoch 61/100\n",
            "1/1 [==============================] - 0s 7ms/step - loss: 1.0981 - mae: 1.0981\n",
            "Epoch 62/100\n",
            "1/1 [==============================] - 0s 8ms/step - loss: 0.5493 - mae: 0.5493\n",
            "Epoch 63/100\n",
            "1/1 [==============================] - 0s 7ms/step - loss: 0.7124 - mae: 0.7124\n",
            "Epoch 64/100\n",
            "1/1 [==============================] - 0s 8ms/step - loss: 0.9809 - mae: 0.9809\n",
            "Epoch 65/100\n",
            "1/1 [==============================] - 0s 7ms/step - loss: 0.4359 - mae: 0.4359\n",
            "Epoch 66/100\n",
            "1/1 [==============================] - 0s 9ms/step - loss: 0.8077 - mae: 0.8077\n",
            "Epoch 67/100\n",
            "1/1 [==============================] - 0s 8ms/step - loss: 1.1418 - mae: 1.1418\n",
            "Epoch 68/100\n",
            "1/1 [==============================] - 0s 7ms/step - loss: 0.6715 - mae: 0.6715\n",
            "Epoch 69/100\n",
            "1/1 [==============================] - 0s 8ms/step - loss: 0.5199 - mae: 0.5199\n",
            "Epoch 70/100\n",
            "1/1 [==============================] - 0s 8ms/step - loss: 0.8377 - mae: 0.8377\n",
            "Epoch 71/100\n",
            "1/1 [==============================] - 0s 7ms/step - loss: 0.4212 - mae: 0.4212\n",
            "Epoch 72/100\n",
            "1/1 [==============================] - 0s 7ms/step - loss: 0.6997 - mae: 0.6997\n",
            "Epoch 73/100\n",
            "1/1 [==============================] - 0s 8ms/step - loss: 0.9315 - mae: 0.9315\n",
            "Epoch 74/100\n",
            "1/1 [==============================] - 0s 9ms/step - loss: 0.4095 - mae: 0.4095\n",
            "Epoch 75/100\n",
            "1/1 [==============================] - 0s 8ms/step - loss: 0.8093 - mae: 0.8093\n",
            "Epoch 76/100\n",
            "1/1 [==============================] - 0s 14ms/step - loss: 1.1449 - mae: 1.1449\n",
            "Epoch 77/100\n",
            "1/1 [==============================] - 0s 10ms/step - loss: 0.7094 - mae: 0.7094\n",
            "Epoch 78/100\n",
            "1/1 [==============================] - 0s 7ms/step - loss: 0.4878 - mae: 0.4878\n",
            "Epoch 79/100\n",
            "1/1 [==============================] - 0s 10ms/step - loss: 0.8284 - mae: 0.8284\n",
            "Epoch 80/100\n",
            "1/1 [==============================] - 0s 7ms/step - loss: 0.4662 - mae: 0.4662\n",
            "Epoch 81/100\n",
            "1/1 [==============================] - 0s 8ms/step - loss: 0.5791 - mae: 0.5791\n",
            "Epoch 82/100\n",
            "1/1 [==============================] - 0s 8ms/step - loss: 0.7716 - mae: 0.7716\n",
            "Epoch 83/100\n",
            "1/1 [==============================] - 0s 8ms/step - loss: 0.2441 - mae: 0.2441\n",
            "Epoch 84/100\n",
            "1/1 [==============================] - 0s 8ms/step - loss: 0.8786 - mae: 0.8786\n",
            "Epoch 85/100\n",
            "1/1 [==============================] - 0s 7ms/step - loss: 1.1520 - mae: 1.1520\n",
            "Epoch 86/100\n",
            "1/1 [==============================] - 0s 8ms/step - loss: 0.6844 - mae: 0.6844\n",
            "Epoch 87/100\n",
            "1/1 [==============================] - 0s 8ms/step - loss: 0.4573 - mae: 0.4573\n",
            "Epoch 88/100\n",
            "1/1 [==============================] - 0s 9ms/step - loss: 0.7743 - mae: 0.7743\n",
            "Epoch 89/100\n",
            "1/1 [==============================] - 0s 10ms/step - loss: 0.3644 - mae: 0.3644\n",
            "Epoch 90/100\n",
            "1/1 [==============================] - 0s 9ms/step - loss: 0.7063 - mae: 0.7063\n",
            "Epoch 91/100\n",
            "1/1 [==============================] - 0s 8ms/step - loss: 0.9661 - mae: 0.9661\n",
            "Epoch 92/100\n",
            "1/1 [==============================] - 0s 8ms/step - loss: 0.5009 - mae: 0.5009\n",
            "Epoch 93/100\n",
            "1/1 [==============================] - 0s 11ms/step - loss: 0.6124 - mae: 0.6124\n",
            "Epoch 94/100\n",
            "1/1 [==============================] - 0s 11ms/step - loss: 0.9174 - mae: 0.9174\n",
            "Epoch 95/100\n",
            "1/1 [==============================] - 0s 11ms/step - loss: 0.4993 - mae: 0.4993\n",
            "Epoch 96/100\n",
            "1/1 [==============================] - 0s 7ms/step - loss: 0.5707 - mae: 0.5707\n",
            "Epoch 97/100\n",
            "1/1 [==============================] - 0s 9ms/step - loss: 0.8568 - mae: 0.8568\n",
            "Epoch 98/100\n",
            "1/1 [==============================] - 0s 7ms/step - loss: 0.4318 - mae: 0.4318\n",
            "Epoch 99/100\n",
            "1/1 [==============================] - 0s 8ms/step - loss: 0.6339 - mae: 0.6339\n",
            "Epoch 100/100\n",
            "1/1 [==============================] - 0s 7ms/step - loss: 0.9080 - mae: 0.9080\n"
          ]
        },
        {
          "output_type": "execute_result",
          "data": {
            "text/plain": [
              "<keras.callbacks.History at 0x7ff3be5f0c90>"
            ]
          },
          "metadata": {},
          "execution_count": 83
        }
      ]
    },
    {
      "cell_type": "code",
      "source": [
        "model.predict([5])"
      ],
      "metadata": {
        "colab": {
          "base_uri": "https://localhost:8080/"
        },
        "id": "TlHR_swMEBvj",
        "outputId": "8f851975-d15d-4ea2-ae86-1225f8a2cdd9"
      },
      "execution_count": 86,
      "outputs": [
        {
          "output_type": "execute_result",
          "data": {
            "text/plain": [
              "array([[15.435858]], dtype=float32)"
            ]
          },
          "metadata": {},
          "execution_count": 86
        }
      ]
    },
    {
      "cell_type": "markdown",
      "source": [
        "### Evaluating a model\n",
        "A typical workflow you'll go through when building neural networks is:\n",
        "\n",
        "Build a model -> evaluate it -> build (tweak) a model -> evaulate it -> build (tweak) a model -> evaluate it...\n",
        "The tweaking comes from maybe not building a model from scratch but adjusting an existing one."
      ],
      "metadata": {
        "id": "U2uxHEG6FIms"
      }
    },
    {
      "cell_type": "markdown",
      "source": [
        "The tweaking comes from maybe not building a model from scratch but adjusting an existing one.\n",
        "\n",
        "Visualize, visualize, visualize\n",
        "When it comes to evaluation, you'll want to remember the words: \"visualize, visualize, visualize.\"\n",
        "\n",
        "This is because you're probably better looking at something (doing) than you are thinking about something.\n",
        "\n",
        "It's a good idea to visualize:\n",
        "\n",
        "The data - what data are you working with? \n",
        "What does it look like?\n",
        "\n",
        "The model itself - what does the architecture look like? What are the different shapes?\n",
        "\n",
        "The training of a model - how does a model perform while it learns?\n",
        "\n",
        "The predictions of a model - how do the predictions of a model line up against the ground truth (the original labels)?\n",
        "Let's start by visualizing the model.\n",
        "\n",
        "But first, we'll create a little bit of a bigger dataset and a new model we can use (it'll be the same as before, but the more practice the better)."
      ],
      "metadata": {
        "id": "ywrLJo7AI40j"
      }
    },
    {
      "cell_type": "code",
      "source": [
        "# Make labels for the dataset\n",
        "X = tf.range(-100,100,4) "
      ],
      "metadata": {
        "id": "CjGIVEqvJmwG"
      },
      "execution_count": 88,
      "outputs": []
    },
    {
      "cell_type": "code",
      "source": [
        "y = X + 10\n"
      ],
      "metadata": {
        "id": "Ii3CtXi0J_Fh"
      },
      "execution_count": 89,
      "outputs": []
    },
    {
      "cell_type": "code",
      "source": [
        "#Visualize the data\n",
        "import matplotlib.pyplot as plt\n",
        "plt.scatter(X,y)"
      ],
      "metadata": {
        "colab": {
          "base_uri": "https://localhost:8080/",
          "height": 282
        },
        "id": "ifD1GgDkKB8v",
        "outputId": "769dc614-9dec-4a74-d899-fa0cd0a1e5a9"
      },
      "execution_count": 91,
      "outputs": [
        {
          "output_type": "execute_result",
          "data": {
            "text/plain": [
              "<matplotlib.collections.PathCollection at 0x7ff3bf539590>"
            ]
          },
          "metadata": {},
          "execution_count": 91
        },
        {
          "output_type": "display_data",
          "data": {
            "text/plain": [
              "<Figure size 432x288 with 1 Axes>"
            ],
            "image/png": "[encoded data removed]"
          },
          "metadata": {
            "needs_background": "light"
          }
        }
      ]
    },
    {
      "cell_type": "code",
      "source": [
        "### The three set\n",
        "X_train = X[:40]\n",
        "X_test = X[40:]\n",
        "y_train = y[:40]\n",
        "y_test = y[40:]\n",
        "X_train,X_test"
      ],
      "metadata": {
        "colab": {
          "base_uri": "https://localhost:8080/"
        },
        "id": "VMPHSPGmKO0g",
        "outputId": "0333cedf-f12e-4f54-d63c-0643b146a97e"
      },
      "execution_count": 95,
      "outputs": [
        {
          "output_type": "execute_result",
          "data": {
            "text/plain": [
              "(<tf.Tensor: shape=(40,), dtype=int32, numpy=\n",
              " array([-100,  -96,  -92,  -88,  -84,  -80,  -76,  -72,  -68,  -64,  -60,\n",
              "         -56,  -52,  -48,  -44,  -40,  -36,  -32,  -28,  -24,  -20,  -16,\n",
              "         -12,   -8,   -4,    0,    4,    8,   12,   16,   20,   24,   28,\n",
              "          32,   36,   40,   44,   48,   52,   56], dtype=int32)>,\n",
              " <tf.Tensor: shape=(10,), dtype=int32, numpy=array([60, 64, 68, 72, 76, 80, 84, 88, 92, 96], dtype=int32)>)"
            ]
          },
          "metadata": {},
          "execution_count": 95
        }
      ]
    },
    {
      "cell_type": "markdown",
      "source": [
        "### Visualizing the data\n"
      ],
      "metadata": {
        "id": "Se2zNPcFOMg0"
      }
    },
    {
      "cell_type": "code",
      "source": [
        "plt.figure(figsize=(10,7))\n",
        "# Plot training data in blue\n",
        "plt.scatter(X_train,y_train,c='b',label='Training data')\n",
        "# Plot testing data in green\n",
        "plt.scatter(X_test, y_test , c='g' , label='Testing data')\n",
        "# Show a legend\n",
        "plt.legend();\n"
      ],
      "metadata": {
        "colab": {
          "base_uri": "https://localhost:8080/",
          "height": 428
        },
        "id": "AjFoci9kOibT",
        "outputId": "0f8e06d7-b1ff-448d-9972-078c7d61b43d"
      },
      "execution_count": 98,
      "outputs": [
        {
          "output_type": "display_data",
          "data": {
            "text/plain": [
              "<Figure size 720x504 with 1 Axes>"
            ],
            "image/png": "[encoded data removed]"
          },
          "metadata": {
            "needs_background": "light"
          }
        }
      ]
    },
    {
      "cell_type": "code",
      "source": [
        "from os import name\n",
        "# Let's create a model\n",
        "# 1. Create a model\n",
        "model = tf.keras.Sequential([\n",
        "    tf.keras.layers.Dense(10, input_shape=[1],name='hidden_layer'),# Fully connected layer , hidden layer\n",
        "    tf.keras.layers.Dense(1, name='output_layer'), # output layer\n",
        "], name = 'model_1')\n",
        "# 2. Complile the model\n",
        "model.compile(loss='mae',\n",
        "              optimizer=tf.keras.optimizers.Adam(lr=0.01),\n",
        "              metrics=['mae'])\n",
        "\n"
      ],
      "metadata": {
        "id": "viPyFuylPc8K"
      },
      "execution_count": 153,
      "outputs": []
    },
    {
      "cell_type": "code",
      "source": [
        "model.summary()"
      ],
      "metadata": {
        "colab": {
          "base_uri": "https://localhost:8080/"
        },
        "id": "UIkkRdsKQY9S",
        "outputId": "fdc3bcfb-acc1-4d41-a60d-58dff8543e64"
      },
      "execution_count": 151,
      "outputs": [
        {
          "output_type": "stream",
          "name": "stdout",
          "text": [
            "Model: \"model_1\"\n",
            "_________________________________________________________________\n",
            " Layer (type)                Output Shape              Param #   \n",
            "=================================================================\n",
            " hidden_layer (Dense)        (None, 10)                20        \n",
            "                                                                 \n",
            " output_layer (Dense)        (None, 1)                 11        \n",
            "                                                                 \n",
            "=================================================================\n",
            "Total params: 31\n",
            "Trainable params: 31\n",
            "Non-trainable params: 0\n",
            "_________________________________________________________________\n"
          ]
        }
      ]
    },
    {
      "cell_type": "markdown",
      "source": [
        "Calling summary() on our model shows us the layers it contains, the output shape and the number of parameters.\n",
        "\n",
        "Total params - total number of parameters in the model.\n",
        "Trainable parameters - these are the parameters (patterns) the model can update as it trains.\n",
        "Non-trainable parameters - these parameters aren't updated during training (this is typical when you bring in the already learned patterns from other models during transfer learning).\n",
        "📖 Resource: For a more in-depth overview of the trainable parameters within a layer, check out MIT's introduction to deep learning video.\n",
        "\n",
        "🛠 Exercise: Try playing around with the number of hidden units in the Dense layer (e.g. Dense(2), Dense(3)). How does this change the Total/Trainable params? Investigate what's causing the change.\n",
        "\n",
        "For now, all you need to think about these parameters is that their learnable patterns in the data.\n",
        "\n",
        "Let's fit our model to the training data."
      ],
      "metadata": {
        "id": "yItXJLFnc9jU"
      }
    },
    {
      "cell_type": "code",
      "source": [
        " # 3. Fit the model\n",
        "model.fit(tf.expand_dims(X_train,-1),y_train,epochs=100,verbose=1)"
      ],
      "metadata": {
        "colab": {
          "base_uri": "https://localhost:8080/"
        },
        "id": "PCbFcH-gdaH8",
        "outputId": "2a246ff2-67ad-42a8-9cbb-3ff73cb52834"
      },
      "execution_count": 154,
      "outputs": [
        {
          "output_type": "stream",
          "name": "stdout",
          "text": [
            "Epoch 1/100\n",
            "2/2 [==============================] - 0s 7ms/step - loss: 95.1303 - mae: 95.1303\n",
            "Epoch 2/100\n",
            "2/2 [==============================] - 0s 7ms/step - loss: 88.3809 - mae: 88.3809\n",
            "Epoch 3/100\n",
            "2/2 [==============================] - 0s 7ms/step - loss: 82.0689 - mae: 82.0689\n",
            "Epoch 4/100\n",
            "2/2 [==============================] - 0s 7ms/step - loss: 75.8718 - mae: 75.8718\n",
            "Epoch 5/100\n",
            "2/2 [==============================] - 0s 15ms/step - loss: 69.9995 - mae: 69.9995\n",
            "Epoch 6/100\n",
            "2/2 [==============================] - 0s 4ms/step - loss: 64.2768 - mae: 64.2768\n",
            "Epoch 7/100\n",
            "2/2 [==============================] - 0s 6ms/step - loss: 58.6867 - mae: 58.6867\n",
            "Epoch 8/100\n",
            "2/2 [==============================] - 0s 9ms/step - loss: 53.0715 - mae: 53.0715\n",
            "Epoch 9/100\n",
            "2/2 [==============================] - 0s 9ms/step - loss: 47.9728 - mae: 47.9728\n",
            "Epoch 10/100\n",
            "2/2 [==============================] - 0s 5ms/step - loss: 42.9412 - mae: 42.9412\n",
            "Epoch 11/100\n",
            "2/2 [==============================] - 0s 6ms/step - loss: 37.5554 - mae: 37.5554\n",
            "Epoch 12/100\n",
            "2/2 [==============================] - 0s 8ms/step - loss: 32.5410 - mae: 32.5410\n",
            "Epoch 13/100\n",
            "2/2 [==============================] - 0s 7ms/step - loss: 27.2651 - mae: 27.2651\n",
            "Epoch 14/100\n",
            "2/2 [==============================] - 0s 15ms/step - loss: 22.3131 - mae: 22.3131\n",
            "Epoch 15/100\n",
            "2/2 [==============================] - 0s 6ms/step - loss: 17.3125 - mae: 17.3125\n",
            "Epoch 16/100\n",
            "2/2 [==============================] - 0s 7ms/step - loss: 12.4501 - mae: 12.4501\n",
            "Epoch 17/100\n",
            "2/2 [==============================] - 0s 7ms/step - loss: 8.6203 - mae: 8.6203\n",
            "Epoch 18/100\n",
            "2/2 [==============================] - 0s 7ms/step - loss: 9.8266 - mae: 9.8266\n",
            "Epoch 19/100\n",
            "2/2 [==============================] - 0s 6ms/step - loss: 11.5290 - mae: 11.5290\n",
            "Epoch 20/100\n",
            "2/2 [==============================] - 0s 12ms/step - loss: 12.3935 - mae: 12.3935\n",
            "Epoch 21/100\n",
            "2/2 [==============================] - 0s 8ms/step - loss: 12.6957 - mae: 12.6957\n",
            "Epoch 22/100\n",
            "2/2 [==============================] - 0s 6ms/step - loss: 12.5439 - mae: 12.5439\n",
            "Epoch 23/100\n",
            "2/2 [==============================] - 0s 6ms/step - loss: 11.9901 - mae: 11.9901\n",
            "Epoch 24/100\n",
            "2/2 [==============================] - 0s 8ms/step - loss: 11.2378 - mae: 11.2378\n",
            "Epoch 25/100\n",
            "2/2 [==============================] - 0s 11ms/step - loss: 10.1169 - mae: 10.1169\n",
            "Epoch 26/100\n",
            "2/2 [==============================] - 0s 8ms/step - loss: 8.9169 - mae: 8.9169\n",
            "Epoch 27/100\n",
            "2/2 [==============================] - 0s 6ms/step - loss: 7.6253 - mae: 7.6253\n",
            "Epoch 28/100\n",
            "2/2 [==============================] - 0s 8ms/step - loss: 7.7943 - mae: 7.7943\n",
            "Epoch 29/100\n",
            "2/2 [==============================] - 0s 7ms/step - loss: 8.6615 - mae: 8.6615\n",
            "Epoch 30/100\n",
            "2/2 [==============================] - 0s 7ms/step - loss: 8.9224 - mae: 8.9224\n",
            "Epoch 31/100\n",
            "2/2 [==============================] - 0s 5ms/step - loss: 8.4859 - mae: 8.4859\n",
            "Epoch 32/100\n",
            "2/2 [==============================] - 0s 5ms/step - loss: 7.6478 - mae: 7.6478\n",
            "Epoch 33/100\n",
            "2/2 [==============================] - 0s 6ms/step - loss: 7.1731 - mae: 7.1731\n",
            "Epoch 34/100\n",
            "2/2 [==============================] - 0s 5ms/step - loss: 7.2251 - mae: 7.2251\n",
            "Epoch 35/100\n",
            "2/2 [==============================] - 0s 13ms/step - loss: 7.3935 - mae: 7.3935\n",
            "Epoch 36/100\n",
            "2/2 [==============================] - 0s 9ms/step - loss: 7.1522 - mae: 7.1522\n",
            "Epoch 37/100\n",
            "2/2 [==============================] - 0s 6ms/step - loss: 6.8855 - mae: 6.8855\n",
            "Epoch 38/100\n",
            "2/2 [==============================] - 0s 8ms/step - loss: 7.0732 - mae: 7.0732\n",
            "Epoch 39/100\n",
            "2/2 [==============================] - 0s 7ms/step - loss: 7.2151 - mae: 7.2151\n",
            "Epoch 40/100\n",
            "2/2 [==============================] - 0s 7ms/step - loss: 7.1319 - mae: 7.1319\n",
            "Epoch 41/100\n",
            "2/2 [==============================] - 0s 5ms/step - loss: 6.8484 - mae: 6.8484\n",
            "Epoch 42/100\n",
            "2/2 [==============================] - 0s 5ms/step - loss: 6.6184 - mae: 6.6184\n",
            "Epoch 43/100\n",
            "2/2 [==============================] - 0s 5ms/step - loss: 6.6852 - mae: 6.6852\n",
            "Epoch 44/100\n",
            "2/2 [==============================] - 0s 5ms/step - loss: 6.5270 - mae: 6.5270\n",
            "Epoch 45/100\n",
            "2/2 [==============================] - 0s 7ms/step - loss: 6.4197 - mae: 6.4197\n",
            "Epoch 46/100\n",
            "2/2 [==============================] - 0s 7ms/step - loss: 6.5094 - mae: 6.5094\n",
            "Epoch 47/100\n",
            "2/2 [==============================] - 0s 6ms/step - loss: 6.5951 - mae: 6.5951\n",
            "Epoch 48/100\n",
            "2/2 [==============================] - 0s 9ms/step - loss: 6.4906 - mae: 6.4906\n",
            "Epoch 49/100\n",
            "2/2 [==============================] - 0s 9ms/step - loss: 6.2751 - mae: 6.2751\n",
            "Epoch 50/100\n",
            "2/2 [==============================] - 0s 8ms/step - loss: 6.1042 - mae: 6.1042\n",
            "Epoch 51/100\n",
            "2/2 [==============================] - 0s 17ms/step - loss: 6.1446 - mae: 6.1446\n",
            "Epoch 52/100\n",
            "2/2 [==============================] - 0s 17ms/step - loss: 6.0567 - mae: 6.0567\n",
            "Epoch 53/100\n",
            "2/2 [==============================] - 0s 8ms/step - loss: 5.8660 - mae: 5.8660\n",
            "Epoch 54/100\n",
            "2/2 [==============================] - 0s 5ms/step - loss: 6.0022 - mae: 6.0022\n",
            "Epoch 55/100\n",
            "2/2 [==============================] - 0s 5ms/step - loss: 5.9657 - mae: 5.9657\n",
            "Epoch 56/100\n",
            "2/2 [==============================] - 0s 6ms/step - loss: 5.7133 - mae: 5.7133\n",
            "Epoch 57/100\n",
            "2/2 [==============================] - 0s 5ms/step - loss: 5.7025 - mae: 5.7025\n",
            "Epoch 58/100\n",
            "2/2 [==============================] - 0s 5ms/step - loss: 6.0124 - mae: 6.0124\n",
            "Epoch 59/100\n",
            "2/2 [==============================] - 0s 4ms/step - loss: 5.8842 - mae: 5.8842\n",
            "Epoch 60/100\n",
            "2/2 [==============================] - 0s 5ms/step - loss: 5.4649 - mae: 5.4649\n",
            "Epoch 61/100\n",
            "2/2 [==============================] - 0s 8ms/step - loss: 5.4170 - mae: 5.4170\n",
            "Epoch 62/100\n",
            "2/2 [==============================] - 0s 4ms/step - loss: 5.4206 - mae: 5.4206\n",
            "Epoch 63/100\n",
            "2/2 [==============================] - 0s 7ms/step - loss: 5.3567 - mae: 5.3567\n",
            "Epoch 64/100\n",
            "2/2 [==============================] - 0s 7ms/step - loss: 5.1931 - mae: 5.1931\n",
            "Epoch 65/100\n",
            "2/2 [==============================] - 0s 6ms/step - loss: 5.0738 - mae: 5.0738\n",
            "Epoch 66/100\n",
            "2/2 [==============================] - 0s 6ms/step - loss: 5.0410 - mae: 5.0410\n",
            "Epoch 67/100\n",
            "2/2 [==============================] - 0s 5ms/step - loss: 4.9438 - mae: 4.9438\n",
            "Epoch 68/100\n",
            "2/2 [==============================] - 0s 5ms/step - loss: 4.8640 - mae: 4.8640\n",
            "Epoch 69/100\n",
            "2/2 [==============================] - 0s 5ms/step - loss: 4.8030 - mae: 4.8030\n",
            "Epoch 70/100\n",
            "2/2 [==============================] - 0s 4ms/step - loss: 4.7146 - mae: 4.7146\n",
            "Epoch 71/100\n",
            "2/2 [==============================] - 0s 5ms/step - loss: 4.6277 - mae: 4.6277\n",
            "Epoch 72/100\n",
            "2/2 [==============================] - 0s 4ms/step - loss: 4.7833 - mae: 4.7833\n",
            "Epoch 73/100\n",
            "2/2 [==============================] - 0s 5ms/step - loss: 4.6460 - mae: 4.6460\n",
            "Epoch 74/100\n",
            "2/2 [==============================] - 0s 6ms/step - loss: 4.3745 - mae: 4.3745\n",
            "Epoch 75/100\n",
            "2/2 [==============================] - 0s 4ms/step - loss: 4.3658 - mae: 4.3658\n",
            "Epoch 76/100\n",
            "2/2 [==============================] - 0s 8ms/step - loss: 4.3344 - mae: 4.3344\n",
            "Epoch 77/100\n",
            "2/2 [==============================] - 0s 6ms/step - loss: 4.1779 - mae: 4.1779\n",
            "Epoch 78/100\n",
            "2/2 [==============================] - 0s 5ms/step - loss: 4.3095 - mae: 4.3095\n",
            "Epoch 79/100\n",
            "2/2 [==============================] - 0s 6ms/step - loss: 4.0591 - mae: 4.0591\n",
            "Epoch 80/100\n",
            "2/2 [==============================] - 0s 9ms/step - loss: 3.9197 - mae: 3.9197\n",
            "Epoch 81/100\n",
            "2/2 [==============================] - 0s 8ms/step - loss: 3.8041 - mae: 3.8041\n",
            "Epoch 82/100\n",
            "2/2 [==============================] - 0s 6ms/step - loss: 3.7106 - mae: 3.7106\n",
            "Epoch 83/100\n",
            "2/2 [==============================] - 0s 5ms/step - loss: 3.6322 - mae: 3.6322\n",
            "Epoch 84/100\n",
            "2/2 [==============================] - 0s 7ms/step - loss: 3.5419 - mae: 3.5419\n",
            "Epoch 85/100\n",
            "2/2 [==============================] - 0s 6ms/step - loss: 3.4689 - mae: 3.4689\n",
            "Epoch 86/100\n",
            "2/2 [==============================] - 0s 6ms/step - loss: 3.3418 - mae: 3.3418\n",
            "Epoch 87/100\n",
            "2/2 [==============================] - 0s 6ms/step - loss: 3.2763 - mae: 3.2763\n",
            "Epoch 88/100\n",
            "2/2 [==============================] - 0s 6ms/step - loss: 3.1059 - mae: 3.1059\n",
            "Epoch 89/100\n",
            "2/2 [==============================] - 0s 7ms/step - loss: 3.0485 - mae: 3.0485\n",
            "Epoch 90/100\n",
            "2/2 [==============================] - 0s 11ms/step - loss: 2.8882 - mae: 2.8882\n",
            "Epoch 91/100\n",
            "2/2 [==============================] - 0s 6ms/step - loss: 2.8977 - mae: 2.8977\n",
            "Epoch 92/100\n",
            "2/2 [==============================] - 0s 13ms/step - loss: 2.7721 - mae: 2.7721\n",
            "Epoch 93/100\n",
            "2/2 [==============================] - 0s 5ms/step - loss: 2.6065 - mae: 2.6065\n",
            "Epoch 94/100\n",
            "2/2 [==============================] - 0s 7ms/step - loss: 2.4743 - mae: 2.4743\n",
            "Epoch 95/100\n",
            "2/2 [==============================] - 0s 6ms/step - loss: 2.3916 - mae: 2.3916\n",
            "Epoch 96/100\n",
            "2/2 [==============================] - 0s 7ms/step - loss: 2.2520 - mae: 2.2520\n",
            "Epoch 97/100\n",
            "2/2 [==============================] - 0s 13ms/step - loss: 2.1382 - mae: 2.1382\n",
            "Epoch 98/100\n",
            "2/2 [==============================] - 0s 5ms/step - loss: 2.0479 - mae: 2.0479\n",
            "Epoch 99/100\n",
            "2/2 [==============================] - 0s 7ms/step - loss: 1.9232 - mae: 1.9232\n",
            "Epoch 100/100\n",
            "2/2 [==============================] - 0s 6ms/step - loss: 1.7367 - mae: 1.7367\n"
          ]
        },
        {
          "output_type": "execute_result",
          "data": {
            "text/plain": [
              "<keras.callbacks.History at 0x7ff3c1736cd0>"
            ]
          },
          "metadata": {},
          "execution_count": 154
        }
      ]
    },
    {
      "cell_type": "code",
      "source": [
        "# Get a summary of our model\n",
        "model.summary()"
      ],
      "metadata": {
        "colab": {
          "base_uri": "https://localhost:8080/"
        },
        "id": "YpZOsjXeeJAA",
        "outputId": "b54b51cf-6e0b-4b18-96b4-70af481504e3"
      },
      "execution_count": 143,
      "outputs": [
        {
          "output_type": "stream",
          "name": "stdout",
          "text": [
            "Model: \"model_1\"\n",
            "_________________________________________________________________\n",
            " Layer (type)                Output Shape              Param #   \n",
            "=================================================================\n",
            " hidden_layer (Dense)        (None, 10)                20        \n",
            "                                                                 \n",
            " output_layer (Dense)        (None, 1)                 11        \n",
            "                                                                 \n",
            "=================================================================\n",
            "Total params: 31\n",
            "Trainable params: 31\n",
            "Non-trainable params: 0\n",
            "_________________________________________________________________\n"
          ]
        }
      ]
    },
    {
      "cell_type": "code",
      "source": [
        "from tensorflow.keras.utils import plot_model\n",
        "plot_model(model, show_shapes=True)"
      ],
      "metadata": {
        "colab": {
          "base_uri": "https://localhost:8080/",
          "height": 312
        },
        "id": "4MSI6AgmeRgh",
        "outputId": "5cb9b5e7-6d9e-4f24-8dac-83ee9b3aa96d"
      },
      "execution_count": 144,
      "outputs": [
        {
          "output_type": "execute_result",
          "data": {
            "image/png": "[encoded data removed]",
            "text/plain": [
              "<IPython.core.display.Image object>"
            ]
          },
          "metadata": {},
          "execution_count": 144
        }
      ]
    },
    {
      "cell_type": "markdown",
      "source": [
        " ### Visualize our model's Prediction"
      ],
      "metadata": {
        "id": "0g9dWZkfe3UM"
      }
    },
    {
      "cell_type": "code",
      "source": [
        "# Make some prediction\n",
        "y_pred = model.predict(X_test)\n",
        "y_pred"
      ],
      "metadata": {
        "colab": {
          "base_uri": "https://localhost:8080/"
        },
        "id": "Y5UZcnoAhDLH",
        "outputId": "5f102d0d-7d33-4dc8-d68b-aad4993158df"
      },
      "execution_count": 158,
      "outputs": [
        {
          "output_type": "execute_result",
          "data": {
            "text/plain": [
              "array([[ 66.66021 ],\n",
              "       [ 70.57959 ],\n",
              "       [ 74.49898 ],\n",
              "       [ 78.41836 ],\n",
              "       [ 82.33776 ],\n",
              "       [ 86.25713 ],\n",
              "       [ 90.17653 ],\n",
              "       [ 94.09592 ],\n",
              "       [ 98.01531 ],\n",
              "       [101.934685]], dtype=float32)"
            ]
          },
          "metadata": {},
          "execution_count": 158
        }
      ]
    },
    {
      "cell_type": "code",
      "source": [
        "# Let's create a plotting fuction\n",
        "def plot_predictions(train_data=X_train,train_labels=y_train,\n",
        "                     test_data=X_test,test_labels=y_test,\n",
        "                     predictions=y_pred):\n",
        "  plt.figure(figsize=(10,7))\n",
        "  #plot training data in color blue\n",
        "  plt.scatter(train_data,train_labels,c='b',label='Training data')\n",
        "  #Plot testing data in green\n",
        "  plt.scatter(test_data , test_labels , c='g' , label='Testing data')\n",
        "  # Plot model's prediction \n",
        "  plt.scatter(test_data , predictions , c='r' , label='Predictions')\n",
        "  # show the legend\n",
        "  plt.legend()"
      ],
      "metadata": {
        "id": "93qjZJ03iDnS"
      },
      "execution_count": 159,
      "outputs": []
    },
    {
      "cell_type": "code",
      "source": [
        "plot_predictions()"
      ],
      "metadata": {
        "colab": {
          "base_uri": "https://localhost:8080/",
          "height": 428
        },
        "id": "E3EuGzGMsvsH",
        "outputId": "81027152-090a-494f-95f2-a2fc136d5c23"
      },
      "execution_count": 160,
      "outputs": [
        {
          "output_type": "display_data",
          "data": {
            "text/plain": [
              "<Figure size 720x504 with 1 Axes>"
            ],
            "image/png": "[encoded data removed]"
          },
          "metadata": {
            "needs_background": "light"
          }
        }
      ]
    },
    {
      "cell_type": "markdown",
      "source": [
        "#Evaluation our model's predictions with regression evaluation metrics\n",
        "  "
      ],
      "metadata": {
        "id": "hOeLd-XBteBA"
      }
    },
    {
      "cell_type": "code",
      "source": [
        "#Evaluate the model on the test\n",
        "model.evaluate(X_test,y_test)"
      ],
      "metadata": {
        "colab": {
          "base_uri": "https://localhost:8080/"
        },
        "id": "7ltK7Q99wlJT",
        "outputId": "aa2d7ee3-9498-497c-e311-38b51656ce0c"
      },
      "execution_count": 185,
      "outputs": [
        {
          "output_type": "stream",
          "name": "stdout",
          "text": [
            "1/1 [==============================] - 0s 48ms/step - loss: 3.7026 - mae: 3.7026\n"
          ]
        },
        {
          "output_type": "execute_result",
          "data": {
            "text/plain": [
              "[3.7025527954101562, 3.7025527954101562]"
            ]
          },
          "metadata": {},
          "execution_count": 185
        }
      ]
    },
    {
      "cell_type": "code",
      "source": [
        "mae = tf.keras.losses.MAE(y_test , y_pred)\n",
        "mae"
      ],
      "metadata": {
        "colab": {
          "base_uri": "https://localhost:8080/"
        },
        "id": "t0ZCebb2w867",
        "outputId": "71c3776c-751a-4b09-88ad-d9c9c384e98a"
      },
      "execution_count": 186,
      "outputs": [
        {
          "output_type": "execute_result",
          "data": {
            "text/plain": [
              "<tf.Tensor: shape=(), dtype=float32, numpy=3.7025528>"
            ]
          },
          "metadata": {},
          "execution_count": 186
        }
      ]
    },
    {
      "cell_type": "code",
      "source": [
        "X_test,y_test\n"
      ],
      "metadata": {
        "colab": {
          "base_uri": "https://localhost:8080/"
        },
        "id": "NK7TVqM-xfxe",
        "outputId": "5ed9fd33-43f8-4eeb-d66c-88a8f4adaa62"
      },
      "execution_count": 187,
      "outputs": [
        {
          "output_type": "execute_result",
          "data": {
            "text/plain": [
              "(<tf.Tensor: shape=(10,), dtype=int32, numpy=array([60, 64, 68, 72, 76, 80, 84, 88, 92, 96], dtype=int32)>,\n",
              " <tf.Tensor: shape=(10,), dtype=int32, numpy=array([ 70,  74,  78,  82,  86,  90,  94,  98, 102, 106], dtype=int32)>)"
            ]
          },
          "metadata": {},
          "execution_count": 187
        }
      ]
    },
    {
      "cell_type": "code",
      "source": [
        "y_test , y_pred"
      ],
      "metadata": {
        "colab": {
          "base_uri": "https://localhost:8080/"
        },
        "id": "YDWgeKmfy_rd",
        "outputId": "56f2edf3-bf65-4510-a865-b5feff6df4f4"
      },
      "execution_count": 188,
      "outputs": [
        {
          "output_type": "execute_result",
          "data": {
            "text/plain": [
              "(<tf.Tensor: shape=(10,), dtype=int32, numpy=array([ 70,  74,  78,  82,  86,  90,  94,  98, 102, 106], dtype=int32)>,\n",
              " <tf.Tensor: shape=(10,), dtype=float32, numpy=\n",
              " array([ 66.66021 ,  70.57959 ,  74.49898 ,  78.41836 ,  82.33776 ,\n",
              "         86.25713 ,  90.17653 ,  94.09592 ,  98.01531 , 101.934685],\n",
              "       dtype=float32)>)"
            ]
          },
          "metadata": {},
          "execution_count": 188
        }
      ]
    },
    {
      "cell_type": "code",
      "source": [
        "y_pred = tf.constant(y_pred)\n",
        "y_pred"
      ],
      "metadata": {
        "colab": {
          "base_uri": "https://localhost:8080/"
        },
        "id": "mEv_4YJ2zFkz",
        "outputId": "259a6bc2-3255-4999-ea42-40e19d41c28d"
      },
      "execution_count": 189,
      "outputs": [
        {
          "output_type": "execute_result",
          "data": {
            "text/plain": [
              "<tf.Tensor: shape=(10,), dtype=float32, numpy=\n",
              "array([ 66.66021 ,  70.57959 ,  74.49898 ,  78.41836 ,  82.33776 ,\n",
              "        86.25713 ,  90.17653 ,  94.09592 ,  98.01531 , 101.934685],\n",
              "      dtype=float32)>"
            ]
          },
          "metadata": {},
          "execution_count": 189
        }
      ]
    },
    {
      "cell_type": "code",
      "source": [
        "y_pred = tf.squeeze(y_pred)\n",
        "y_pred"
      ],
      "metadata": {
        "colab": {
          "base_uri": "https://localhost:8080/"
        },
        "id": "BlGNaTCozThk",
        "outputId": "ee4eb601-c28c-4721-d548-449601d60123"
      },
      "execution_count": 190,
      "outputs": [
        {
          "output_type": "execute_result",
          "data": {
            "text/plain": [
              "<tf.Tensor: shape=(10,), dtype=float32, numpy=\n",
              "array([ 66.66021 ,  70.57959 ,  74.49898 ,  78.41836 ,  82.33776 ,\n",
              "        86.25713 ,  90.17653 ,  94.09592 ,  98.01531 , 101.934685],\n",
              "      dtype=float32)>"
            ]
          },
          "metadata": {},
          "execution_count": 190
        }
      ]
    },
    {
      "cell_type": "code",
      "source": [
        "mae = tf.keras.losses.mae(y_test , y_pred)\n",
        "mae"
      ],
      "metadata": {
        "colab": {
          "base_uri": "https://localhost:8080/"
        },
        "id": "LURlNR18zeHy",
        "outputId": "abab1d5d-49fd-4985-dc4c-71c33fd70473"
      },
      "execution_count": 191,
      "outputs": [
        {
          "output_type": "execute_result",
          "data": {
            "text/plain": [
              "<tf.Tensor: shape=(), dtype=float32, numpy=3.7025528>"
            ]
          },
          "metadata": {},
          "execution_count": 191
        }
      ]
    },
    {
      "cell_type": "code",
      "source": [
        "mse = tf.keras.losses.mse(y_test , y_pred)\n",
        "mse"
      ],
      "metadata": {
        "colab": {
          "base_uri": "https://localhost:8080/"
        },
        "id": "y0WMhToTzpTo",
        "outputId": "8b091af4-e3fe-4ac8-ab1f-cccb68860b82"
      },
      "execution_count": 192,
      "outputs": [
        {
          "output_type": "execute_result",
          "data": {
            "text/plain": [
              "<tf.Tensor: shape=(), dtype=float32, numpy=13.762509>"
            ]
          },
          "metadata": {},
          "execution_count": 192
        }
      ]
    },
    {
      "cell_type": "code",
      "source": [
        "# Make function for mse and mae\n",
        "def mae(y_true , y_pred):\n",
        "  return tf.keras.losses.mae(y_true,y_pred)\n",
        "\n",
        "# for mse\n",
        "def mse(y_true , y_pred):\n",
        "  return tf.keras.losses.mse(y_true,y_pred)"
      ],
      "metadata": {
        "id": "_NfO8nKUz7f9"
      },
      "execution_count": 199,
      "outputs": []
    },
    {
      "cell_type": "markdown",
      "source": [
        "# Running experiment to imporve our model"
      ],
      "metadata": {
        "id": "1i93JQKI1AK7"
      }
    },
    {
      "cell_type": "markdown",
      "source": [
        "# Model_1"
      ],
      "metadata": {
        "id": "7vjI_sRh1SPs"
      }
    },
    {
      "cell_type": "code",
      "source": [
        "# Set the seed\n",
        "tf.random.set_seed(42)\n",
        "# Create first model\n",
        "model_1 = tf.keras.Sequential([\n",
        "    tf.keras.layers.Dense(1),\n",
        "    \n",
        "])\n",
        "# Compile the model\n",
        "model_1.compile(\n",
        "    optimizer=tf.keras.optimizers.Adam(lr=1),\n",
        "    loss=tf.keras.losses.mae,\n",
        "    metrics=['mae']\n",
        "  \n",
        ")\n",
        "# Fit the model\n",
        "model_1.fit(tf.expand_dims(X_train,-1),y_train,epochs=100)"
      ],
      "metadata": {
        "colab": {
          "base_uri": "https://localhost:8080/"
        },
        "id": "GIzD5uM-2HTU",
        "outputId": "a1064537-f733-4fe7-c7db-0b000ba0d4ae"
      },
      "execution_count": 208,
      "outputs": [
        {
          "output_type": "stream",
          "name": "stdout",
          "text": [
            "Epoch 1/100\n",
            "2/2 [==============================] - 0s 6ms/step - loss: 19.2644 - mae: 19.2644\n",
            "Epoch 2/100\n",
            "2/2 [==============================] - 0s 6ms/step - loss: 25.4689 - mae: 25.4689\n",
            "Epoch 3/100\n",
            "2/2 [==============================] - 0s 9ms/step - loss: 13.9846 - mae: 13.9846\n",
            "Epoch 4/100\n",
            "2/2 [==============================] - 0s 3ms/step - loss: 13.4356 - mae: 13.4356\n",
            "Epoch 5/100\n",
            "2/2 [==============================] - 0s 5ms/step - loss: 12.8921 - mae: 12.8921\n",
            "Epoch 6/100\n",
            "2/2 [==============================] - 0s 7ms/step - loss: 11.8873 - mae: 11.8873\n",
            "Epoch 7/100\n",
            "2/2 [==============================] - 0s 7ms/step - loss: 9.8291 - mae: 9.8291\n",
            "Epoch 8/100\n",
            "2/2 [==============================] - 0s 5ms/step - loss: 7.9334 - mae: 7.9334\n",
            "Epoch 9/100\n",
            "2/2 [==============================] - 0s 7ms/step - loss: 13.4364 - mae: 13.4364\n",
            "Epoch 10/100\n",
            "2/2 [==============================] - 0s 5ms/step - loss: 17.4681 - mae: 17.4681\n",
            "Epoch 11/100\n",
            "2/2 [==============================] - 0s 9ms/step - loss: 4.9038 - mae: 4.9038\n",
            "Epoch 12/100\n",
            "2/2 [==============================] - 0s 7ms/step - loss: 15.7225 - mae: 15.7225\n",
            "Epoch 13/100\n",
            "2/2 [==============================] - 0s 8ms/step - loss: 7.5477 - mae: 7.5477\n",
            "Epoch 14/100\n",
            "2/2 [==============================] - 0s 7ms/step - loss: 14.9632 - mae: 14.9632\n",
            "Epoch 15/100\n",
            "2/2 [==============================] - 0s 5ms/step - loss: 21.4974 - mae: 21.4974\n",
            "Epoch 16/100\n",
            "2/2 [==============================] - 0s 7ms/step - loss: 8.7289 - mae: 8.7289\n",
            "Epoch 17/100\n",
            "2/2 [==============================] - 0s 3ms/step - loss: 5.9610 - mae: 5.9610\n",
            "Epoch 18/100\n",
            "2/2 [==============================] - 0s 6ms/step - loss: 2.8923 - mae: 2.8923\n",
            "Epoch 19/100\n",
            "2/2 [==============================] - 0s 9ms/step - loss: 9.1901 - mae: 9.1901\n",
            "Epoch 20/100\n",
            "2/2 [==============================] - 0s 5ms/step - loss: 2.8701 - mae: 2.8701\n",
            "Epoch 21/100\n",
            "2/2 [==============================] - 0s 6ms/step - loss: 12.2902 - mae: 12.2902\n",
            "Epoch 22/100\n",
            "2/2 [==============================] - 0s 6ms/step - loss: 5.9738 - mae: 5.9738\n",
            "Epoch 23/100\n",
            "2/2 [==============================] - 0s 6ms/step - loss: 8.8966 - mae: 8.8966\n",
            "Epoch 24/100\n",
            "2/2 [==============================] - 0s 4ms/step - loss: 4.8790 - mae: 4.8790\n",
            "Epoch 25/100\n",
            "2/2 [==============================] - 0s 7ms/step - loss: 4.1454 - mae: 4.1454\n",
            "Epoch 26/100\n",
            "2/2 [==============================] - 0s 7ms/step - loss: 3.9619 - mae: 3.9619\n",
            "Epoch 27/100\n",
            "2/2 [==============================] - 0s 6ms/step - loss: 2.7269 - mae: 2.7269\n",
            "Epoch 28/100\n",
            "2/2 [==============================] - 0s 5ms/step - loss: 5.0754 - mae: 5.0754\n",
            "Epoch 29/100\n",
            "2/2 [==============================] - 0s 6ms/step - loss: 6.6353 - mae: 6.6353\n",
            "Epoch 30/100\n",
            "2/2 [==============================] - 0s 6ms/step - loss: 3.9108 - mae: 3.9108\n",
            "Epoch 31/100\n",
            "2/2 [==============================] - 0s 6ms/step - loss: 1.7482 - mae: 1.7482\n",
            "Epoch 32/100\n",
            "2/2 [==============================] - 0s 6ms/step - loss: 2.9282 - mae: 2.9282\n",
            "Epoch 33/100\n",
            "2/2 [==============================] - 0s 7ms/step - loss: 2.2508 - mae: 2.2508\n",
            "Epoch 34/100\n",
            "2/2 [==============================] - 0s 6ms/step - loss: 1.0832 - mae: 1.0832\n",
            "Epoch 35/100\n",
            "2/2 [==============================] - 0s 4ms/step - loss: 2.4999 - mae: 2.4999\n",
            "Epoch 36/100\n",
            "2/2 [==============================] - 0s 4ms/step - loss: 1.8481 - mae: 1.8481\n",
            "Epoch 37/100\n",
            "2/2 [==============================] - 0s 5ms/step - loss: 4.5020 - mae: 4.5020\n",
            "Epoch 38/100\n",
            "2/2 [==============================] - 0s 7ms/step - loss: 5.3821 - mae: 5.3821\n",
            "Epoch 39/100\n",
            "2/2 [==============================] - 0s 6ms/step - loss: 3.8648 - mae: 3.8648\n",
            "Epoch 40/100\n",
            "2/2 [==============================] - 0s 5ms/step - loss: 3.6780 - mae: 3.6780\n",
            "Epoch 41/100\n",
            "2/2 [==============================] - 0s 6ms/step - loss: 5.6613 - mae: 5.6613\n",
            "Epoch 42/100\n",
            "2/2 [==============================] - 0s 6ms/step - loss: 3.9665 - mae: 3.9665\n",
            "Epoch 43/100\n",
            "2/2 [==============================] - 0s 5ms/step - loss: 6.0077 - mae: 6.0077\n",
            "Epoch 44/100\n",
            "2/2 [==============================] - 0s 5ms/step - loss: 1.9871 - mae: 1.9871\n",
            "Epoch 45/100\n",
            "2/2 [==============================] - 0s 7ms/step - loss: 1.7382 - mae: 1.7382\n",
            "Epoch 46/100\n",
            "2/2 [==============================] - 0s 5ms/step - loss: 7.6428 - mae: 7.6428\n",
            "Epoch 47/100\n",
            "2/2 [==============================] - 0s 5ms/step - loss: 0.6119 - mae: 0.6119\n",
            "Epoch 48/100\n",
            "2/2 [==============================] - 0s 5ms/step - loss: 2.6062 - mae: 2.6062\n",
            "Epoch 49/100\n",
            "2/2 [==============================] - 0s 4ms/step - loss: 3.2098 - mae: 3.2098\n",
            "Epoch 50/100\n",
            "2/2 [==============================] - 0s 6ms/step - loss: 1.0762 - mae: 1.0762\n",
            "Epoch 51/100\n",
            "2/2 [==============================] - 0s 10ms/step - loss: 2.9827 - mae: 2.9827\n",
            "Epoch 52/100\n",
            "2/2 [==============================] - 0s 4ms/step - loss: 4.6961 - mae: 4.6961\n",
            "Epoch 53/100\n",
            "2/2 [==============================] - 0s 5ms/step - loss: 3.1824 - mae: 3.1824\n",
            "Epoch 54/100\n",
            "2/2 [==============================] - 0s 5ms/step - loss: 3.0257 - mae: 3.0257\n",
            "Epoch 55/100\n",
            "2/2 [==============================] - 0s 5ms/step - loss: 8.8438 - mae: 8.8438\n",
            "Epoch 56/100\n",
            "2/2 [==============================] - 0s 6ms/step - loss: 8.9358 - mae: 8.9358\n",
            "Epoch 57/100\n",
            "2/2 [==============================] - 0s 5ms/step - loss: 5.4514 - mae: 5.4514\n",
            "Epoch 58/100\n",
            "2/2 [==============================] - 0s 5ms/step - loss: 7.7810 - mae: 7.7810\n",
            "Epoch 59/100\n",
            "2/2 [==============================] - 0s 5ms/step - loss: 4.4407 - mae: 4.4407\n",
            "Epoch 60/100\n",
            "2/2 [==============================] - 0s 11ms/step - loss: 4.3181 - mae: 4.3181\n",
            "Epoch 61/100\n",
            "2/2 [==============================] - 0s 4ms/step - loss: 1.9812 - mae: 1.9812\n",
            "Epoch 62/100\n",
            "2/2 [==============================] - 0s 5ms/step - loss: 1.0912 - mae: 1.0912\n",
            "Epoch 63/100\n",
            "2/2 [==============================] - 0s 5ms/step - loss: 2.9636 - mae: 2.9636\n",
            "Epoch 64/100\n",
            "2/2 [==============================] - 0s 6ms/step - loss: 1.6331 - mae: 1.6331\n",
            "Epoch 65/100\n",
            "2/2 [==============================] - 0s 6ms/step - loss: 2.1960 - mae: 2.1960\n",
            "Epoch 66/100\n",
            "2/2 [==============================] - 0s 6ms/step - loss: 2.2520 - mae: 2.2520\n",
            "Epoch 67/100\n",
            "2/2 [==============================] - 0s 4ms/step - loss: 2.3491 - mae: 2.3491\n",
            "Epoch 68/100\n",
            "2/2 [==============================] - 0s 14ms/step - loss: 2.3028 - mae: 2.3028\n",
            "Epoch 69/100\n",
            "2/2 [==============================] - 0s 5ms/step - loss: 2.1349 - mae: 2.1349\n",
            "Epoch 70/100\n",
            "2/2 [==============================] - 0s 5ms/step - loss: 3.1594 - mae: 3.1594\n",
            "Epoch 71/100\n",
            "2/2 [==============================] - 0s 5ms/step - loss: 3.9841 - mae: 3.9841\n",
            "Epoch 72/100\n",
            "2/2 [==============================] - 0s 5ms/step - loss: 1.3391 - mae: 1.3391\n",
            "Epoch 73/100\n",
            "2/2 [==============================] - 0s 5ms/step - loss: 2.6234 - mae: 2.6234\n",
            "Epoch 74/100\n",
            "2/2 [==============================] - 0s 5ms/step - loss: 4.2338 - mae: 4.2338\n",
            "Epoch 75/100\n",
            "2/2 [==============================] - 0s 4ms/step - loss: 2.8518 - mae: 2.8518\n",
            "Epoch 76/100\n",
            "2/2 [==============================] - 0s 5ms/step - loss: 5.1392 - mae: 5.1392\n",
            "Epoch 77/100\n",
            "2/2 [==============================] - 0s 4ms/step - loss: 5.3034 - mae: 5.3034\n",
            "Epoch 78/100\n",
            "2/2 [==============================] - 0s 4ms/step - loss: 4.1376 - mae: 4.1376\n",
            "Epoch 79/100\n",
            "2/2 [==============================] - 0s 4ms/step - loss: 1.7547 - mae: 1.7547\n",
            "Epoch 80/100\n",
            "2/2 [==============================] - 0s 5ms/step - loss: 0.9108 - mae: 0.9108\n",
            "Epoch 81/100\n",
            "2/2 [==============================] - 0s 5ms/step - loss: 2.4856 - mae: 2.4856\n",
            "Epoch 82/100\n",
            "2/2 [==============================] - 0s 6ms/step - loss: 2.6142 - mae: 2.6142\n",
            "Epoch 83/100\n",
            "2/2 [==============================] - 0s 11ms/step - loss: 4.0016 - mae: 4.0016\n",
            "Epoch 84/100\n",
            "2/2 [==============================] - 0s 11ms/step - loss: 2.2163 - mae: 2.2163\n",
            "Epoch 85/100\n",
            "2/2 [==============================] - 0s 9ms/step - loss: 5.0302 - mae: 5.0302\n",
            "Epoch 86/100\n",
            "2/2 [==============================] - 0s 4ms/step - loss: 7.3651 - mae: 7.3651\n",
            "Epoch 87/100\n",
            "2/2 [==============================] - 0s 5ms/step - loss: 6.9359 - mae: 6.9359\n",
            "Epoch 88/100\n",
            "2/2 [==============================] - 0s 4ms/step - loss: 8.7129 - mae: 8.7129\n",
            "Epoch 89/100\n",
            "2/2 [==============================] - 0s 4ms/step - loss: 12.3342 - mae: 12.3342\n",
            "Epoch 90/100\n",
            "2/2 [==============================] - 0s 4ms/step - loss: 2.9138 - mae: 2.9138\n",
            "Epoch 91/100\n",
            "2/2 [==============================] - 0s 4ms/step - loss: 17.9255 - mae: 17.9255\n",
            "Epoch 92/100\n",
            "2/2 [==============================] - 0s 5ms/step - loss: 14.0129 - mae: 14.0129\n",
            "Epoch 93/100\n",
            "2/2 [==============================] - 0s 5ms/step - loss: 4.5503 - mae: 4.5503\n",
            "Epoch 94/100\n",
            "2/2 [==============================] - 0s 4ms/step - loss: 8.9421 - mae: 8.9421\n",
            "Epoch 95/100\n",
            "2/2 [==============================] - 0s 8ms/step - loss: 2.5816 - mae: 2.5816\n",
            "Epoch 96/100\n",
            "2/2 [==============================] - 0s 5ms/step - loss: 3.3138 - mae: 3.3138\n",
            "Epoch 97/100\n",
            "2/2 [==============================] - 0s 5ms/step - loss: 1.9446 - mae: 1.9446\n",
            "Epoch 98/100\n",
            "2/2 [==============================] - 0s 9ms/step - loss: 2.6146 - mae: 2.6146\n",
            "Epoch 99/100\n",
            "2/2 [==============================] - 0s 5ms/step - loss: 1.5777 - mae: 1.5777\n",
            "Epoch 100/100\n",
            "2/2 [==============================] - 0s 5ms/step - loss: 2.4662 - mae: 2.4662\n"
          ]
        },
        {
          "output_type": "execute_result",
          "data": {
            "text/plain": [
              "<keras.callbacks.History at 0x7ff3c2b28710>"
            ]
          },
          "metadata": {},
          "execution_count": 208
        }
      ]
    },
    {
      "cell_type": "code",
      "source": [
        "# Make and plot predictions for model_1\n",
        "y_preds_1 = tf.squeeze(model_1.predict(X_test))\n",
        "\n",
        "plot_predictions(predictions=y_preds_1)"
      ],
      "metadata": {
        "colab": {
          "base_uri": "https://localhost:8080/",
          "height": 428
        },
        "id": "SRZPahpb3mXU",
        "outputId": "73822638-e383-4bfe-a761-22242de2a46d"
      },
      "execution_count": 209,
      "outputs": [
        {
          "output_type": "display_data",
          "data": {
            "text/plain": [
              "<Figure size 720x504 with 1 Axes>"
            ],
            "image/png": "[encoded data removed]"
          },
          "metadata": {
            "needs_background": "light"
          }
        }
      ]
    },
    {
      "cell_type": "code",
      "source": [
        "y_preds_1, y_test"
      ],
      "metadata": {
        "colab": {
          "base_uri": "https://localhost:8080/"
        },
        "id": "VNAZjNf24ONn",
        "outputId": "95136b10-5e3a-40c9-d99b-b223c059df33"
      },
      "execution_count": 210,
      "outputs": [
        {
          "output_type": "execute_result",
          "data": {
            "text/plain": [
              "(<tf.Tensor: shape=(10,), dtype=float32, numpy=\n",
              " array([ 73.7817  ,  78.07781 ,  82.373924,  86.670044,  90.966156,\n",
              "         95.262276,  99.55839 , 103.85451 , 108.15062 , 112.44673 ],\n",
              "       dtype=float32)>,\n",
              " <tf.Tensor: shape=(10,), dtype=int32, numpy=array([ 70,  74,  78,  82,  86,  90,  94,  98, 102, 106], dtype=int32)>)"
            ]
          },
          "metadata": {},
          "execution_count": 210
        }
      ]
    },
    {
      "cell_type": "code",
      "source": [
        "# Calculate model_1 evaluation metrics\n",
        "mae_1 = mae(y_test , y_preds_1)\n",
        "mse_1 = mse(y_test , y_preds_1)\n",
        "mae_1 , mse_1"
      ],
      "metadata": {
        "colab": {
          "base_uri": "https://localhost:8080/"
        },
        "id": "GDT8wk3K4ZFC",
        "outputId": "6c627f59-7579-4f3e-ccf5-6bebdfaa09b9"
      },
      "execution_count": 211,
      "outputs": [
        {
          "output_type": "execute_result",
          "data": {
            "text/plain": [
              "(<tf.Tensor: shape=(), dtype=float32, numpy=5.114216>,\n",
              " <tf.Tensor: shape=(), dtype=float32, numpy=26.878597>)"
            ]
          },
          "metadata": {},
          "execution_count": 211
        }
      ]
    },
    {
      "cell_type": "markdown",
      "source": [
        "Build model_2\n",
        "2 dense layers, trained for 100 epochs"
      ],
      "metadata": {
        "id": "lB1ejdEw5Cpx"
      }
    },
    {
      "cell_type": "code",
      "source": [
        "# Set the random seed\n",
        "tf.random.set_seed(42)\n",
        "# Build the model\n",
        "model_2 = tf.keras.Sequential([\n",
        "    tf.keras.layers.Dense(10),\n",
        "    tf.keras.layers.Dense(1)\n",
        "    \n",
        "])\n",
        "# Compile the model\n",
        "model_2.compile(\n",
        "    loss= tf.keras.losses.mae,\n",
        "    optimizer = tf.keras.optimizers.Adam(lr=0.01),\n",
        "    metrics = ['mae']\n",
        ")\n",
        "\n",
        "# fitting the model\n",
        "model_2.fit(tf.expand_dims(X_train,-1),y_train,epochs=100)"
      ],
      "metadata": {
        "colab": {
          "base_uri": "https://localhost:8080/"
        },
        "id": "nWA5v0-365cz",
        "outputId": "8c606bce-b614-46dd-a9cf-6d58726d294a"
      },
      "execution_count": 217,
      "outputs": [
        {
          "output_type": "stream",
          "name": "stdout",
          "text": [
            "Epoch 1/100\n"
          ]
        },
        {
          "output_type": "stream",
          "name": "stderr",
          "text": [
            "/usr/local/lib/python3.7/dist-packages/keras/optimizer_v2/adam.py:105: UserWarning: The `lr` argument is deprecated, use `learning_rate` instead.\n",
            "  super(Adam, self).__init__(name, **kwargs)\n"
          ]
        },
        {
          "output_type": "stream",
          "name": "stdout",
          "text": [
            "2/2 [==============================] - 1s 11ms/step - loss: 24.7643 - mae: 24.7643\n",
            "Epoch 2/100\n",
            "2/2 [==============================] - 0s 16ms/step - loss: 19.0262 - mae: 19.0262\n",
            "Epoch 3/100\n",
            "2/2 [==============================] - 0s 6ms/step - loss: 13.5870 - mae: 13.5870\n",
            "Epoch 4/100\n",
            "2/2 [==============================] - 0s 7ms/step - loss: 8.8757 - mae: 8.8757\n",
            "Epoch 5/100\n",
            "2/2 [==============================] - 0s 6ms/step - loss: 8.6327 - mae: 8.6327\n",
            "Epoch 6/100\n",
            "2/2 [==============================] - 0s 7ms/step - loss: 10.8266 - mae: 10.8266\n",
            "Epoch 7/100\n",
            "2/2 [==============================] - 0s 4ms/step - loss: 11.7706 - mae: 11.7706\n",
            "Epoch 8/100\n",
            "2/2 [==============================] - 0s 5ms/step - loss: 11.8001 - mae: 11.8001\n",
            "Epoch 9/100\n",
            "2/2 [==============================] - 0s 8ms/step - loss: 11.1962 - mae: 11.1962\n",
            "Epoch 10/100\n",
            "2/2 [==============================] - 0s 9ms/step - loss: 10.0506 - mae: 10.0506\n",
            "Epoch 11/100\n",
            "2/2 [==============================] - 0s 5ms/step - loss: 8.4785 - mae: 8.4785\n",
            "Epoch 12/100\n",
            "2/2 [==============================] - 0s 5ms/step - loss: 7.3061 - mae: 7.3061\n",
            "Epoch 13/100\n",
            "2/2 [==============================] - 0s 10ms/step - loss: 7.9295 - mae: 7.9295\n",
            "Epoch 14/100\n",
            "2/2 [==============================] - 0s 4ms/step - loss: 8.2075 - mae: 8.2075\n",
            "Epoch 15/100\n",
            "2/2 [==============================] - 0s 7ms/step - loss: 7.7219 - mae: 7.7219\n",
            "Epoch 16/100\n",
            "2/2 [==============================] - 0s 8ms/step - loss: 7.1421 - mae: 7.1421\n",
            "Epoch 17/100\n",
            "2/2 [==============================] - 0s 4ms/step - loss: 6.9032 - mae: 6.9032\n",
            "Epoch 18/100\n",
            "2/2 [==============================] - 0s 6ms/step - loss: 7.1171 - mae: 7.1171\n",
            "Epoch 19/100\n",
            "2/2 [==============================] - 0s 6ms/step - loss: 6.8713 - mae: 6.8713\n",
            "Epoch 20/100\n",
            "2/2 [==============================] - 0s 4ms/step - loss: 6.6966 - mae: 6.6966\n",
            "Epoch 21/100\n",
            "2/2 [==============================] - 0s 4ms/step - loss: 6.6737 - mae: 6.6737\n",
            "Epoch 22/100\n",
            "2/2 [==============================] - 0s 5ms/step - loss: 6.5517 - mae: 6.5517\n",
            "Epoch 23/100\n",
            "2/2 [==============================] - 0s 7ms/step - loss: 6.5632 - mae: 6.5632\n",
            "Epoch 24/100\n",
            "2/2 [==============================] - 0s 6ms/step - loss: 6.5071 - mae: 6.5071\n",
            "Epoch 25/100\n",
            "2/2 [==============================] - 0s 4ms/step - loss: 6.3482 - mae: 6.3482\n",
            "Epoch 26/100\n",
            "2/2 [==============================] - 0s 4ms/step - loss: 6.2796 - mae: 6.2796\n",
            "Epoch 27/100\n",
            "2/2 [==============================] - 0s 5ms/step - loss: 6.2361 - mae: 6.2361\n",
            "Epoch 28/100\n",
            "2/2 [==============================] - 0s 5ms/step - loss: 6.1653 - mae: 6.1653\n",
            "Epoch 29/100\n",
            "2/2 [==============================] - 0s 5ms/step - loss: 6.0706 - mae: 6.0706\n",
            "Epoch 30/100\n",
            "2/2 [==============================] - 0s 8ms/step - loss: 6.0291 - mae: 6.0291\n",
            "Epoch 31/100\n",
            "2/2 [==============================] - 0s 4ms/step - loss: 5.9077 - mae: 5.9077\n",
            "Epoch 32/100\n",
            "2/2 [==============================] - 0s 8ms/step - loss: 5.9504 - mae: 5.9504\n",
            "Epoch 33/100\n",
            "2/2 [==============================] - 0s 5ms/step - loss: 6.0770 - mae: 6.0770\n",
            "Epoch 34/100\n",
            "2/2 [==============================] - 0s 5ms/step - loss: 5.9371 - mae: 5.9371\n",
            "Epoch 35/100\n",
            "2/2 [==============================] - 0s 5ms/step - loss: 5.7583 - mae: 5.7583\n",
            "Epoch 36/100\n",
            "2/2 [==============================] - 0s 5ms/step - loss: 5.6100 - mae: 5.6100\n",
            "Epoch 37/100\n",
            "2/2 [==============================] - 0s 5ms/step - loss: 5.5049 - mae: 5.5049\n",
            "Epoch 38/100\n",
            "2/2 [==============================] - 0s 9ms/step - loss: 5.5993 - mae: 5.5993\n",
            "Epoch 39/100\n",
            "2/2 [==============================] - 0s 17ms/step - loss: 5.5565 - mae: 5.5565\n",
            "Epoch 40/100\n",
            "2/2 [==============================] - 0s 13ms/step - loss: 5.3353 - mae: 5.3353\n",
            "Epoch 41/100\n",
            "2/2 [==============================] - 0s 11ms/step - loss: 5.1988 - mae: 5.1988\n",
            "Epoch 42/100\n",
            "2/2 [==============================] - 0s 9ms/step - loss: 5.3877 - mae: 5.3877\n",
            "Epoch 43/100\n",
            "2/2 [==============================] - 0s 7ms/step - loss: 5.1514 - mae: 5.1514\n",
            "Epoch 44/100\n",
            "2/2 [==============================] - 0s 6ms/step - loss: 4.9465 - mae: 4.9465\n",
            "Epoch 45/100\n",
            "2/2 [==============================] - 0s 4ms/step - loss: 5.0810 - mae: 5.0810\n",
            "Epoch 46/100\n",
            "2/2 [==============================] - 0s 5ms/step - loss: 5.0890 - mae: 5.0890\n",
            "Epoch 47/100\n",
            "2/2 [==============================] - 0s 16ms/step - loss: 4.8108 - mae: 4.8108\n",
            "Epoch 48/100\n",
            "2/2 [==============================] - 0s 13ms/step - loss: 4.6230 - mae: 4.6230\n",
            "Epoch 49/100\n",
            "2/2 [==============================] - 0s 11ms/step - loss: 4.6238 - mae: 4.6238\n",
            "Epoch 50/100\n",
            "2/2 [==============================] - 0s 5ms/step - loss: 4.4386 - mae: 4.4386\n",
            "Epoch 51/100\n",
            "2/2 [==============================] - 0s 6ms/step - loss: 4.5251 - mae: 4.5251\n",
            "Epoch 52/100\n",
            "2/2 [==============================] - 0s 5ms/step - loss: 4.3965 - mae: 4.3965\n",
            "Epoch 53/100\n",
            "2/2 [==============================] - 0s 7ms/step - loss: 4.2997 - mae: 4.2997\n",
            "Epoch 54/100\n",
            "2/2 [==============================] - 0s 5ms/step - loss: 4.1182 - mae: 4.1182\n",
            "Epoch 55/100\n",
            "2/2 [==============================] - 0s 11ms/step - loss: 4.1023 - mae: 4.1023\n",
            "Epoch 56/100\n",
            "2/2 [==============================] - 0s 5ms/step - loss: 3.8748 - mae: 3.8748\n",
            "Epoch 57/100\n",
            "2/2 [==============================] - 0s 5ms/step - loss: 3.8659 - mae: 3.8659\n",
            "Epoch 58/100\n",
            "2/2 [==============================] - 0s 9ms/step - loss: 3.7244 - mae: 3.7244\n",
            "Epoch 59/100\n",
            "2/2 [==============================] - 0s 10ms/step - loss: 3.6444 - mae: 3.6444\n",
            "Epoch 60/100\n",
            "2/2 [==============================] - 0s 11ms/step - loss: 3.5109 - mae: 3.5109\n",
            "Epoch 61/100\n",
            "2/2 [==============================] - 0s 5ms/step - loss: 3.4097 - mae: 3.4097\n",
            "Epoch 62/100\n",
            "2/2 [==============================] - 0s 5ms/step - loss: 3.3124 - mae: 3.3124\n",
            "Epoch 63/100\n",
            "2/2 [==============================] - 0s 5ms/step - loss: 3.2729 - mae: 3.2729\n",
            "Epoch 64/100\n",
            "2/2 [==============================] - 0s 8ms/step - loss: 3.1014 - mae: 3.1014\n",
            "Epoch 65/100\n",
            "2/2 [==============================] - 0s 7ms/step - loss: 2.9931 - mae: 2.9931\n",
            "Epoch 66/100\n",
            "2/2 [==============================] - 0s 3ms/step - loss: 2.8670 - mae: 2.8670\n",
            "Epoch 67/100\n",
            "2/2 [==============================] - 0s 7ms/step - loss: 2.8825 - mae: 2.8825\n",
            "Epoch 68/100\n",
            "2/2 [==============================] - 0s 13ms/step - loss: 2.6894 - mae: 2.6894\n",
            "Epoch 69/100\n",
            "2/2 [==============================] - 0s 9ms/step - loss: 2.5258 - mae: 2.5258\n",
            "Epoch 70/100\n",
            "2/2 [==============================] - 0s 5ms/step - loss: 2.5212 - mae: 2.5212\n",
            "Epoch 71/100\n",
            "2/2 [==============================] - 0s 6ms/step - loss: 2.2685 - mae: 2.2685\n",
            "Epoch 72/100\n",
            "2/2 [==============================] - 0s 5ms/step - loss: 2.3147 - mae: 2.3147\n",
            "Epoch 73/100\n",
            "2/2 [==============================] - 0s 10ms/step - loss: 2.1676 - mae: 2.1676\n",
            "Epoch 74/100\n",
            "2/2 [==============================] - 0s 7ms/step - loss: 1.9131 - mae: 1.9131\n",
            "Epoch 75/100\n",
            "2/2 [==============================] - 0s 12ms/step - loss: 2.2775 - mae: 2.2775\n",
            "Epoch 76/100\n",
            "2/2 [==============================] - 0s 13ms/step - loss: 1.9966 - mae: 1.9966\n",
            "Epoch 77/100\n",
            "2/2 [==============================] - 0s 12ms/step - loss: 1.6327 - mae: 1.6327\n",
            "Epoch 78/100\n",
            "2/2 [==============================] - 0s 10ms/step - loss: 1.5498 - mae: 1.5498\n",
            "Epoch 79/100\n",
            "2/2 [==============================] - 0s 6ms/step - loss: 1.5338 - mae: 1.5338\n",
            "Epoch 80/100\n",
            "2/2 [==============================] - 0s 15ms/step - loss: 1.2707 - mae: 1.2707\n",
            "Epoch 81/100\n",
            "2/2 [==============================] - 0s 23ms/step - loss: 1.2268 - mae: 1.2268\n",
            "Epoch 82/100\n",
            "2/2 [==============================] - 0s 3ms/step - loss: 0.8647 - mae: 0.8647\n",
            "Epoch 83/100\n",
            "2/2 [==============================] - 0s 5ms/step - loss: 0.6219 - mae: 0.6219\n",
            "Epoch 84/100\n",
            "2/2 [==============================] - 0s 5ms/step - loss: 0.5439 - mae: 0.5439\n",
            "Epoch 85/100\n",
            "2/2 [==============================] - 0s 6ms/step - loss: 0.8905 - mae: 0.8905\n",
            "Epoch 86/100\n",
            "2/2 [==============================] - 0s 6ms/step - loss: 0.4026 - mae: 0.4026\n",
            "Epoch 87/100\n",
            "2/2 [==============================] - 0s 5ms/step - loss: 0.7196 - mae: 0.7196\n",
            "Epoch 88/100\n",
            "2/2 [==============================] - 0s 4ms/step - loss: 1.3945 - mae: 1.3945\n",
            "Epoch 89/100\n",
            "2/2 [==============================] - 0s 4ms/step - loss: 1.4896 - mae: 1.4896\n",
            "Epoch 90/100\n",
            "2/2 [==============================] - 0s 5ms/step - loss: 0.9490 - mae: 0.9490\n",
            "Epoch 91/100\n",
            "2/2 [==============================] - 0s 6ms/step - loss: 1.2693 - mae: 1.2693\n",
            "Epoch 92/100\n",
            "2/2 [==============================] - 0s 6ms/step - loss: 0.9246 - mae: 0.9246\n",
            "Epoch 93/100\n",
            "2/2 [==============================] - 0s 5ms/step - loss: 1.1842 - mae: 1.1842\n",
            "Epoch 94/100\n",
            "2/2 [==============================] - 0s 8ms/step - loss: 0.8709 - mae: 0.8709\n",
            "Epoch 95/100\n",
            "2/2 [==============================] - 0s 6ms/step - loss: 0.8290 - mae: 0.8290\n",
            "Epoch 96/100\n",
            "2/2 [==============================] - 0s 6ms/step - loss: 1.2720 - mae: 1.2720\n",
            "Epoch 97/100\n",
            "2/2 [==============================] - 0s 5ms/step - loss: 0.9911 - mae: 0.9911\n",
            "Epoch 98/100\n",
            "2/2 [==============================] - 0s 4ms/step - loss: 1.0985 - mae: 1.0985\n",
            "Epoch 99/100\n",
            "2/2 [==============================] - 0s 5ms/step - loss: 0.8477 - mae: 0.8477\n",
            "Epoch 100/100\n",
            "2/2 [==============================] - 0s 4ms/step - loss: 1.3402 - mae: 1.3402\n"
          ]
        },
        {
          "output_type": "execute_result",
          "data": {
            "text/plain": [
              "<keras.callbacks.History at 0x7ff3c322f190>"
            ]
          },
          "metadata": {},
          "execution_count": 217
        }
      ]
    },
    {
      "cell_type": "code",
      "source": [
        "# Make and plot prediction of model_2\n",
        "y_preds_2 = tf.squeeze(model_2.predict(X_test))\n",
        "plot_predictions(predictions=y_preds_2)"
      ],
      "metadata": {
        "colab": {
          "base_uri": "https://localhost:8080/",
          "height": 428
        },
        "id": "S0Jrgy1V8hAv",
        "outputId": "7efd9d67-01d2-448c-95cc-ce032aa12368"
      },
      "execution_count": 221,
      "outputs": [
        {
          "output_type": "display_data",
          "data": {
            "text/plain": [
              "<Figure size 720x504 with 1 Axes>"
            ],
            "image/png": "[encoded data removed]"
          },
          "metadata": {
            "needs_background": "light"
          }
        }
      ]
    },
    {
      "cell_type": "code",
      "source": [
        "mae_2 = mae(y_test , y_preds_2)\n",
        "mse_2 = mse(y_test , y_preds_2)\n",
        "mae_2 , mse_2"
      ],
      "metadata": {
        "colab": {
          "base_uri": "https://localhost:8080/"
        },
        "id": "BPQLo7xR9ney",
        "outputId": "07806c1c-32d5-4fda-dcf9-4debd2e27d7b"
      },
      "execution_count": 223,
      "outputs": [
        {
          "output_type": "execute_result",
          "data": {
            "text/plain": [
              "(<tf.Tensor: shape=(), dtype=float32, numpy=3.1409538>,\n",
              " <tf.Tensor: shape=(), dtype=float32, numpy=10.072696>)"
            ]
          },
          "metadata": {},
          "execution_count": 223
        }
      ]
    },
    {
      "cell_type": "markdown",
      "source": [
        "Build model_3"
      ],
      "metadata": {
        "id": "M_qBzT-q-Gu-"
      }
    },
    {
      "cell_type": "code",
      "source": [
        "# 2layers, trained for 500 epochs\n",
        "tf.random.set_seed(42)\n",
        "# create a model\n",
        "model_3 = tf.keras.Sequential([\n",
        "    tf.keras.layers.Dense(10),\n",
        "    tf.keras.layers.Dense(1)\n",
        "])\n",
        "# compile the model\n",
        "model_3.compile(\n",
        "    loss = tf.keras.losses.mae,\n",
        "    optimizer = tf.keras.optimizers.Adam(lr=0.1)\n",
        "\n",
        ")\n",
        "# fit the model\n",
        "model_3.fit(tf.expand_dims(X_train,-1),y_train,epochs=500)"
      ],
      "metadata": {
        "colab": {
          "base_uri": "https://localhost:8080/"
        },
        "id": "Y8zSGPrH-fG3",
        "outputId": "87f9675f-7658-4d51-8351-a2a88945affe"
      },
      "execution_count": 225,
      "outputs": [
        {
          "output_type": "stream",
          "name": "stdout",
          "text": [
            "Epoch 1/500\n",
            "2/2 [==============================] - 1s 7ms/step - loss: 23.1334\n",
            "Epoch 2/500\n",
            "2/2 [==============================] - 0s 7ms/step - loss: 13.8879\n",
            "Epoch 3/500\n",
            "2/2 [==============================] - 0s 7ms/step - loss: 11.2354\n",
            "Epoch 4/500\n",
            "2/2 [==============================] - 0s 6ms/step - loss: 9.9052\n",
            "Epoch 5/500\n",
            "2/2 [==============================] - 0s 6ms/step - loss: 11.6202\n",
            "Epoch 6/500\n",
            "2/2 [==============================] - 0s 6ms/step - loss: 13.3254\n",
            "Epoch 7/500\n",
            "2/2 [==============================] - 0s 6ms/step - loss: 6.4085\n",
            "Epoch 8/500\n",
            "2/2 [==============================] - 0s 7ms/step - loss: 12.4448\n",
            "Epoch 9/500\n",
            "2/2 [==============================] - 0s 4ms/step - loss: 8.3798\n",
            "Epoch 10/500\n",
            "2/2 [==============================] - 0s 7ms/step - loss: 7.1615\n",
            "Epoch 11/500\n",
            "2/2 [==============================] - 0s 5ms/step - loss: 11.3141\n",
            "Epoch 12/500\n",
            "2/2 [==============================] - 0s 8ms/step - loss: 5.8087\n",
            "Epoch 13/500\n",
            "2/2 [==============================] - 0s 5ms/step - loss: 7.3715\n",
            "Epoch 14/500\n",
            "2/2 [==============================] - 0s 8ms/step - loss: 6.4812\n",
            "Epoch 15/500\n",
            "2/2 [==============================] - 0s 6ms/step - loss: 4.5382\n",
            "Epoch 16/500\n",
            "2/2 [==============================] - 0s 7ms/step - loss: 7.1655\n",
            "Epoch 17/500\n",
            "2/2 [==============================] - 0s 6ms/step - loss: 3.1583\n",
            "Epoch 18/500\n",
            "2/2 [==============================] - 0s 6ms/step - loss: 6.5485\n",
            "Epoch 19/500\n",
            "2/2 [==============================] - 0s 7ms/step - loss: 3.4809\n",
            "Epoch 20/500\n",
            "2/2 [==============================] - 0s 5ms/step - loss: 3.3694\n",
            "Epoch 21/500\n",
            "2/2 [==============================] - 0s 6ms/step - loss: 0.9583\n",
            "Epoch 22/500\n",
            "2/2 [==============================] - 0s 12ms/step - loss: 3.8311\n",
            "Epoch 23/500\n",
            "2/2 [==============================] - 0s 6ms/step - loss: 1.0017\n",
            "Epoch 24/500\n",
            "2/2 [==============================] - 0s 6ms/step - loss: 1.1192\n",
            "Epoch 25/500\n",
            "2/2 [==============================] - 0s 6ms/step - loss: 1.4279\n",
            "Epoch 26/500\n",
            "2/2 [==============================] - 0s 6ms/step - loss: 2.6687\n",
            "Epoch 27/500\n",
            "2/2 [==============================] - 0s 6ms/step - loss: 1.0154\n",
            "Epoch 28/500\n",
            "2/2 [==============================] - 0s 10ms/step - loss: 3.7084\n",
            "Epoch 29/500\n",
            "2/2 [==============================] - 0s 5ms/step - loss: 1.5156\n",
            "Epoch 30/500\n",
            "2/2 [==============================] - 0s 6ms/step - loss: 1.4539\n",
            "Epoch 31/500\n",
            "2/2 [==============================] - 0s 5ms/step - loss: 0.8656\n",
            "Epoch 32/500\n",
            "2/2 [==============================] - 0s 5ms/step - loss: 0.5269\n",
            "Epoch 33/500\n",
            "2/2 [==============================] - 0s 5ms/step - loss: 0.6120\n",
            "Epoch 34/500\n",
            "2/2 [==============================] - 0s 5ms/step - loss: 1.0395\n",
            "Epoch 35/500\n",
            "2/2 [==============================] - 0s 5ms/step - loss: 0.9427\n",
            "Epoch 36/500\n",
            "2/2 [==============================] - 0s 5ms/step - loss: 0.6392\n",
            "Epoch 37/500\n",
            "2/2 [==============================] - 0s 6ms/step - loss: 1.0779\n",
            "Epoch 38/500\n",
            "2/2 [==============================] - 0s 6ms/step - loss: 0.6690\n",
            "Epoch 39/500\n",
            "2/2 [==============================] - 0s 5ms/step - loss: 1.4951\n",
            "Epoch 40/500\n",
            "2/2 [==============================] - 0s 9ms/step - loss: 0.6381\n",
            "Epoch 41/500\n",
            "2/2 [==============================] - 0s 5ms/step - loss: 0.3789\n",
            "Epoch 42/500\n",
            "2/2 [==============================] - 0s 5ms/step - loss: 0.7730\n",
            "Epoch 43/500\n",
            "2/2 [==============================] - 0s 5ms/step - loss: 3.0366\n",
            "Epoch 44/500\n",
            "2/2 [==============================] - 0s 16ms/step - loss: 0.8952\n",
            "Epoch 45/500\n",
            "2/2 [==============================] - 0s 9ms/step - loss: 0.9240\n",
            "Epoch 46/500\n",
            "2/2 [==============================] - 0s 11ms/step - loss: 2.5373\n",
            "Epoch 47/500\n",
            "2/2 [==============================] - 0s 5ms/step - loss: 1.1345\n",
            "Epoch 48/500\n",
            "2/2 [==============================] - 0s 7ms/step - loss: 0.3896\n",
            "Epoch 49/500\n",
            "2/2 [==============================] - 0s 5ms/step - loss: 0.5909\n",
            "Epoch 50/500\n",
            "2/2 [==============================] - 0s 6ms/step - loss: 0.7337\n",
            "Epoch 51/500\n",
            "2/2 [==============================] - 0s 7ms/step - loss: 1.9027\n",
            "Epoch 52/500\n",
            "2/2 [==============================] - 0s 7ms/step - loss: 2.9193\n",
            "Epoch 53/500\n",
            "2/2 [==============================] - 0s 6ms/step - loss: 2.3779\n",
            "Epoch 54/500\n",
            "2/2 [==============================] - 0s 10ms/step - loss: 4.9908\n",
            "Epoch 55/500\n",
            "2/2 [==============================] - 0s 5ms/step - loss: 6.8626\n",
            "Epoch 56/500\n",
            "2/2 [==============================] - 0s 6ms/step - loss: 2.7196\n",
            "Epoch 57/500\n",
            "2/2 [==============================] - 0s 9ms/step - loss: 3.3302\n",
            "Epoch 58/500\n",
            "2/2 [==============================] - 0s 5ms/step - loss: 1.4603\n",
            "Epoch 59/500\n",
            "2/2 [==============================] - 0s 9ms/step - loss: 3.7541\n",
            "Epoch 60/500\n",
            "2/2 [==============================] - 0s 6ms/step - loss: 1.6879\n",
            "Epoch 61/500\n",
            "2/2 [==============================] - 0s 10ms/step - loss: 3.3641\n",
            "Epoch 62/500\n",
            "2/2 [==============================] - 0s 9ms/step - loss: 0.9718\n",
            "Epoch 63/500\n",
            "2/2 [==============================] - 0s 14ms/step - loss: 3.8960\n",
            "Epoch 64/500\n",
            "2/2 [==============================] - 0s 13ms/step - loss: 1.4545\n",
            "Epoch 65/500\n",
            "2/2 [==============================] - 0s 10ms/step - loss: 4.1731\n",
            "Epoch 66/500\n",
            "2/2 [==============================] - 0s 25ms/step - loss: 1.4872\n",
            "Epoch 67/500\n",
            "2/2 [==============================] - 0s 13ms/step - loss: 4.7152\n",
            "Epoch 68/500\n",
            "2/2 [==============================] - 0s 11ms/step - loss: 2.4089\n",
            "Epoch 69/500\n",
            "2/2 [==============================] - 0s 5ms/step - loss: 1.6996\n",
            "Epoch 70/500\n",
            "2/2 [==============================] - 0s 6ms/step - loss: 1.1621\n",
            "Epoch 71/500\n",
            "2/2 [==============================] - 0s 6ms/step - loss: 0.3776\n",
            "Epoch 72/500\n",
            "2/2 [==============================] - 0s 8ms/step - loss: 1.6692\n",
            "Epoch 73/500\n",
            "2/2 [==============================] - 0s 6ms/step - loss: 0.4670\n",
            "Epoch 74/500\n",
            "2/2 [==============================] - 0s 6ms/step - loss: 1.9667\n",
            "Epoch 75/500\n",
            "2/2 [==============================] - 0s 6ms/step - loss: 1.1964\n",
            "Epoch 76/500\n",
            "2/2 [==============================] - 0s 13ms/step - loss: 2.0503\n",
            "Epoch 77/500\n",
            "2/2 [==============================] - 0s 5ms/step - loss: 2.0874\n",
            "Epoch 78/500\n",
            "2/2 [==============================] - 0s 5ms/step - loss: 1.7045\n",
            "Epoch 79/500\n",
            "2/2 [==============================] - 0s 5ms/step - loss: 0.7143\n",
            "Epoch 80/500\n",
            "2/2 [==============================] - 0s 5ms/step - loss: 2.8918\n",
            "Epoch 81/500\n",
            "2/2 [==============================] - 0s 10ms/step - loss: 2.7584\n",
            "Epoch 82/500\n",
            "2/2 [==============================] - 0s 6ms/step - loss: 2.3550\n",
            "Epoch 83/500\n",
            "2/2 [==============================] - 0s 5ms/step - loss: 1.6897\n",
            "Epoch 84/500\n",
            "2/2 [==============================] - 0s 6ms/step - loss: 2.3662\n",
            "Epoch 85/500\n",
            "2/2 [==============================] - 0s 5ms/step - loss: 0.5722\n",
            "Epoch 86/500\n",
            "2/2 [==============================] - 0s 5ms/step - loss: 0.9298\n",
            "Epoch 87/500\n",
            "2/2 [==============================] - 0s 6ms/step - loss: 1.4221\n",
            "Epoch 88/500\n",
            "2/2 [==============================] - 0s 6ms/step - loss: 2.9401\n",
            "Epoch 89/500\n",
            "2/2 [==============================] - 0s 6ms/step - loss: 2.7561\n",
            "Epoch 90/500\n",
            "2/2 [==============================] - 0s 9ms/step - loss: 3.1482\n",
            "Epoch 91/500\n",
            "2/2 [==============================] - 0s 6ms/step - loss: 4.4432\n",
            "Epoch 92/500\n",
            "2/2 [==============================] - 0s 8ms/step - loss: 1.1456\n",
            "Epoch 93/500\n",
            "2/2 [==============================] - 0s 11ms/step - loss: 6.6054\n",
            "Epoch 94/500\n",
            "2/2 [==============================] - 0s 6ms/step - loss: 4.5127\n",
            "Epoch 95/500\n",
            "2/2 [==============================] - 0s 7ms/step - loss: 3.6564\n",
            "Epoch 96/500\n",
            "2/2 [==============================] - 0s 9ms/step - loss: 5.7582\n",
            "Epoch 97/500\n",
            "2/2 [==============================] - 0s 8ms/step - loss: 1.7908\n",
            "Epoch 98/500\n",
            "2/2 [==============================] - 0s 5ms/step - loss: 4.6822\n",
            "Epoch 99/500\n",
            "2/2 [==============================] - 0s 6ms/step - loss: 1.3383\n",
            "Epoch 100/500\n",
            "2/2 [==============================] - 0s 5ms/step - loss: 1.7356\n",
            "Epoch 101/500\n",
            "2/2 [==============================] - 0s 6ms/step - loss: 3.9730\n",
            "Epoch 102/500\n",
            "2/2 [==============================] - 0s 6ms/step - loss: 2.4727\n",
            "Epoch 103/500\n",
            "2/2 [==============================] - 0s 5ms/step - loss: 1.7375\n",
            "Epoch 104/500\n",
            "2/2 [==============================] - 0s 7ms/step - loss: 2.5345\n",
            "Epoch 105/500\n",
            "2/2 [==============================] - 0s 7ms/step - loss: 2.8654\n",
            "Epoch 106/500\n",
            "2/2 [==============================] - 0s 9ms/step - loss: 2.5733\n",
            "Epoch 107/500\n",
            "2/2 [==============================] - 0s 7ms/step - loss: 3.5434\n",
            "Epoch 108/500\n",
            "2/2 [==============================] - 0s 8ms/step - loss: 3.9486\n",
            "Epoch 109/500\n",
            "2/2 [==============================] - 0s 6ms/step - loss: 2.1581\n",
            "Epoch 110/500\n",
            "2/2 [==============================] - 0s 6ms/step - loss: 3.2153\n",
            "Epoch 111/500\n",
            "2/2 [==============================] - 0s 6ms/step - loss: 1.9737\n",
            "Epoch 112/500\n",
            "2/2 [==============================] - 0s 7ms/step - loss: 1.7759\n",
            "Epoch 113/500\n",
            "2/2 [==============================] - 0s 11ms/step - loss: 0.5558\n",
            "Epoch 114/500\n",
            "2/2 [==============================] - 0s 6ms/step - loss: 0.1012\n",
            "Epoch 115/500\n",
            "2/2 [==============================] - 0s 6ms/step - loss: 1.0258\n",
            "Epoch 116/500\n",
            "2/2 [==============================] - 0s 7ms/step - loss: 1.3690\n",
            "Epoch 117/500\n",
            "2/2 [==============================] - 0s 8ms/step - loss: 0.5548\n",
            "Epoch 118/500\n",
            "2/2 [==============================] - 0s 7ms/step - loss: 2.8186\n",
            "Epoch 119/500\n",
            "2/2 [==============================] - 0s 7ms/step - loss: 0.4093\n",
            "Epoch 120/500\n",
            "2/2 [==============================] - 0s 7ms/step - loss: 0.6501\n",
            "Epoch 121/500\n",
            "2/2 [==============================] - 0s 6ms/step - loss: 0.8948\n",
            "Epoch 122/500\n",
            "2/2 [==============================] - 0s 9ms/step - loss: 1.5836\n",
            "Epoch 123/500\n",
            "2/2 [==============================] - 0s 6ms/step - loss: 0.9237\n",
            "Epoch 124/500\n",
            "2/2 [==============================] - 0s 10ms/step - loss: 3.1374\n",
            "Epoch 125/500\n",
            "2/2 [==============================] - 0s 7ms/step - loss: 0.3044\n",
            "Epoch 126/500\n",
            "2/2 [==============================] - 0s 5ms/step - loss: 0.9548\n",
            "Epoch 127/500\n",
            "2/2 [==============================] - 0s 11ms/step - loss: 0.7603\n",
            "Epoch 128/500\n",
            "2/2 [==============================] - 0s 12ms/step - loss: 0.5610\n",
            "Epoch 129/500\n",
            "2/2 [==============================] - 0s 5ms/step - loss: 0.8428\n",
            "Epoch 130/500\n",
            "2/2 [==============================] - 0s 6ms/step - loss: 0.8472\n",
            "Epoch 131/500\n",
            "2/2 [==============================] - 0s 7ms/step - loss: 0.6070\n",
            "Epoch 132/500\n",
            "2/2 [==============================] - 0s 7ms/step - loss: 0.6488\n",
            "Epoch 133/500\n",
            "2/2 [==============================] - 0s 7ms/step - loss: 1.0929\n",
            "Epoch 134/500\n",
            "2/2 [==============================] - 0s 6ms/step - loss: 0.4190\n",
            "Epoch 135/500\n",
            "2/2 [==============================] - 0s 7ms/step - loss: 0.2869\n",
            "Epoch 136/500\n",
            "2/2 [==============================] - 0s 7ms/step - loss: 0.7044\n",
            "Epoch 137/500\n",
            "2/2 [==============================] - 0s 6ms/step - loss: 1.9124\n",
            "Epoch 138/500\n",
            "2/2 [==============================] - 0s 9ms/step - loss: 1.4269\n",
            "Epoch 139/500\n",
            "2/2 [==============================] - 0s 7ms/step - loss: 1.9439\n",
            "Epoch 140/500\n",
            "2/2 [==============================] - 0s 5ms/step - loss: 1.0730\n",
            "Epoch 141/500\n",
            "2/2 [==============================] - 0s 5ms/step - loss: 0.8463\n",
            "Epoch 142/500\n",
            "2/2 [==============================] - 0s 6ms/step - loss: 1.1907\n",
            "Epoch 143/500\n",
            "2/2 [==============================] - 0s 8ms/step - loss: 0.3073\n",
            "Epoch 144/500\n",
            "2/2 [==============================] - 0s 7ms/step - loss: 0.8662\n",
            "Epoch 145/500\n",
            "2/2 [==============================] - 0s 7ms/step - loss: 0.6766\n",
            "Epoch 146/500\n",
            "2/2 [==============================] - 0s 8ms/step - loss: 0.8241\n",
            "Epoch 147/500\n",
            "2/2 [==============================] - 0s 6ms/step - loss: 1.3380\n",
            "Epoch 148/500\n",
            "2/2 [==============================] - 0s 7ms/step - loss: 1.8934\n",
            "Epoch 149/500\n",
            "2/2 [==============================] - 0s 7ms/step - loss: 1.4125\n",
            "Epoch 150/500\n",
            "2/2 [==============================] - 0s 7ms/step - loss: 1.7630\n",
            "Epoch 151/500\n",
            "2/2 [==============================] - 0s 6ms/step - loss: 0.7199\n",
            "Epoch 152/500\n",
            "2/2 [==============================] - 0s 6ms/step - loss: 0.2311\n",
            "Epoch 153/500\n",
            "2/2 [==============================] - 0s 5ms/step - loss: 1.0484\n",
            "Epoch 154/500\n",
            "2/2 [==============================] - 0s 6ms/step - loss: 0.8361\n",
            "Epoch 155/500\n",
            "2/2 [==============================] - 0s 6ms/step - loss: 0.9512\n",
            "Epoch 156/500\n",
            "2/2 [==============================] - 0s 8ms/step - loss: 1.0220\n",
            "Epoch 157/500\n",
            "2/2 [==============================] - 0s 9ms/step - loss: 0.5526\n",
            "Epoch 158/500\n",
            "2/2 [==============================] - 0s 6ms/step - loss: 0.6247\n",
            "Epoch 159/500\n",
            "2/2 [==============================] - 0s 11ms/step - loss: 1.2398\n",
            "Epoch 160/500\n",
            "2/2 [==============================] - 0s 5ms/step - loss: 0.6524\n",
            "Epoch 161/500\n",
            "2/2 [==============================] - 0s 6ms/step - loss: 0.7603\n",
            "Epoch 162/500\n",
            "2/2 [==============================] - 0s 6ms/step - loss: 1.1605\n",
            "Epoch 163/500\n",
            "2/2 [==============================] - 0s 6ms/step - loss: 0.4973\n",
            "Epoch 164/500\n",
            "2/2 [==============================] - 0s 8ms/step - loss: 0.8565\n",
            "Epoch 165/500\n",
            "2/2 [==============================] - 0s 6ms/step - loss: 0.5505\n",
            "Epoch 166/500\n",
            "2/2 [==============================] - 0s 33ms/step - loss: 1.4940\n",
            "Epoch 167/500\n",
            "2/2 [==============================] - 0s 5ms/step - loss: 0.3039\n",
            "Epoch 168/500\n",
            "2/2 [==============================] - 0s 8ms/step - loss: 0.2161\n",
            "Epoch 169/500\n",
            "2/2 [==============================] - 0s 7ms/step - loss: 0.5893\n",
            "Epoch 170/500\n",
            "2/2 [==============================] - 0s 5ms/step - loss: 0.9200\n",
            "Epoch 171/500\n",
            "2/2 [==============================] - 0s 9ms/step - loss: 1.5133\n",
            "Epoch 172/500\n",
            "2/2 [==============================] - 0s 7ms/step - loss: 0.7140\n",
            "Epoch 173/500\n",
            "2/2 [==============================] - 0s 7ms/step - loss: 2.9632\n",
            "Epoch 174/500\n",
            "2/2 [==============================] - 0s 6ms/step - loss: 1.0070\n",
            "Epoch 175/500\n",
            "2/2 [==============================] - 0s 6ms/step - loss: 3.5110\n",
            "Epoch 176/500\n",
            "2/2 [==============================] - 0s 9ms/step - loss: 0.8990\n",
            "Epoch 177/500\n",
            "2/2 [==============================] - 0s 5ms/step - loss: 5.1320\n",
            "Epoch 178/500\n",
            "2/2 [==============================] - 0s 8ms/step - loss: 4.2358\n",
            "Epoch 179/500\n",
            "2/2 [==============================] - 0s 6ms/step - loss: 1.2589\n",
            "Epoch 180/500\n",
            "2/2 [==============================] - 0s 8ms/step - loss: 2.2982\n",
            "Epoch 181/500\n",
            "2/2 [==============================] - 0s 6ms/step - loss: 2.0695\n",
            "Epoch 182/500\n",
            "2/2 [==============================] - 0s 6ms/step - loss: 1.8058\n",
            "Epoch 183/500\n",
            "2/2 [==============================] - 0s 6ms/step - loss: 2.0195\n",
            "Epoch 184/500\n",
            "2/2 [==============================] - 0s 7ms/step - loss: 0.2394\n",
            "Epoch 185/500\n",
            "2/2 [==============================] - 0s 6ms/step - loss: 0.3743\n",
            "Epoch 186/500\n",
            "2/2 [==============================] - 0s 6ms/step - loss: 0.6927\n",
            "Epoch 187/500\n",
            "2/2 [==============================] - 0s 7ms/step - loss: 1.9253\n",
            "Epoch 188/500\n",
            "2/2 [==============================] - 0s 8ms/step - loss: 1.5287\n",
            "Epoch 189/500\n",
            "2/2 [==============================] - 0s 6ms/step - loss: 1.4226\n",
            "Epoch 190/500\n",
            "2/2 [==============================] - 0s 7ms/step - loss: 0.6074\n",
            "Epoch 191/500\n",
            "2/2 [==============================] - 0s 6ms/step - loss: 0.3723\n",
            "Epoch 192/500\n",
            "2/2 [==============================] - 0s 7ms/step - loss: 0.9538\n",
            "Epoch 193/500\n",
            "2/2 [==============================] - 0s 6ms/step - loss: 0.5312\n",
            "Epoch 194/500\n",
            "2/2 [==============================] - 0s 7ms/step - loss: 0.5042\n",
            "Epoch 195/500\n",
            "2/2 [==============================] - 0s 6ms/step - loss: 1.6903\n",
            "Epoch 196/500\n",
            "2/2 [==============================] - 0s 7ms/step - loss: 1.6940\n",
            "Epoch 197/500\n",
            "2/2 [==============================] - 0s 6ms/step - loss: 1.3609\n",
            "Epoch 198/500\n",
            "2/2 [==============================] - 0s 5ms/step - loss: 0.7857\n",
            "Epoch 199/500\n",
            "2/2 [==============================] - 0s 7ms/step - loss: 0.4352\n",
            "Epoch 200/500\n",
            "2/2 [==============================] - 0s 10ms/step - loss: 0.3399\n",
            "Epoch 201/500\n",
            "2/2 [==============================] - 0s 9ms/step - loss: 0.8245\n",
            "Epoch 202/500\n",
            "2/2 [==============================] - 0s 5ms/step - loss: 1.0405\n",
            "Epoch 203/500\n",
            "2/2 [==============================] - 0s 6ms/step - loss: 0.4963\n",
            "Epoch 204/500\n",
            "2/2 [==============================] - 0s 6ms/step - loss: 0.3177\n",
            "Epoch 205/500\n",
            "2/2 [==============================] - 0s 6ms/step - loss: 0.7402\n",
            "Epoch 206/500\n",
            "2/2 [==============================] - 0s 7ms/step - loss: 1.8559\n",
            "Epoch 207/500\n",
            "2/2 [==============================] - 0s 7ms/step - loss: 1.2303\n",
            "Epoch 208/500\n",
            "2/2 [==============================] - 0s 6ms/step - loss: 1.7523\n",
            "Epoch 209/500\n",
            "2/2 [==============================] - 0s 6ms/step - loss: 2.1269\n",
            "Epoch 210/500\n",
            "2/2 [==============================] - 0s 7ms/step - loss: 1.6756\n",
            "Epoch 211/500\n",
            "2/2 [==============================] - 0s 6ms/step - loss: 1.5011\n",
            "Epoch 212/500\n",
            "2/2 [==============================] - 0s 7ms/step - loss: 0.9734\n",
            "Epoch 213/500\n",
            "2/2 [==============================] - 0s 5ms/step - loss: 0.7946\n",
            "Epoch 214/500\n",
            "2/2 [==============================] - 0s 9ms/step - loss: 1.6222\n",
            "Epoch 215/500\n",
            "2/2 [==============================] - 0s 5ms/step - loss: 2.0636\n",
            "Epoch 216/500\n",
            "2/2 [==============================] - 0s 6ms/step - loss: 2.2615\n",
            "Epoch 217/500\n",
            "2/2 [==============================] - 0s 7ms/step - loss: 2.1225\n",
            "Epoch 218/500\n",
            "2/2 [==============================] - 0s 6ms/step - loss: 3.1178\n",
            "Epoch 219/500\n",
            "2/2 [==============================] - 0s 5ms/step - loss: 0.6150\n",
            "Epoch 220/500\n",
            "2/2 [==============================] - 0s 5ms/step - loss: 0.7348\n",
            "Epoch 221/500\n",
            "2/2 [==============================] - 0s 6ms/step - loss: 0.9150\n",
            "Epoch 222/500\n",
            "2/2 [==============================] - 0s 6ms/step - loss: 0.7294\n",
            "Epoch 223/500\n",
            "2/2 [==============================] - 0s 7ms/step - loss: 1.6913\n",
            "Epoch 224/500\n",
            "2/2 [==============================] - 0s 6ms/step - loss: 1.5676\n",
            "Epoch 225/500\n",
            "2/2 [==============================] - 0s 5ms/step - loss: 0.8917\n",
            "Epoch 226/500\n",
            "2/2 [==============================] - 0s 5ms/step - loss: 3.1661\n",
            "Epoch 227/500\n",
            "2/2 [==============================] - 0s 4ms/step - loss: 1.0723\n",
            "Epoch 228/500\n",
            "2/2 [==============================] - 0s 5ms/step - loss: 4.2400\n",
            "Epoch 229/500\n",
            "2/2 [==============================] - 0s 4ms/step - loss: 2.6996\n",
            "Epoch 230/500\n",
            "2/2 [==============================] - 0s 6ms/step - loss: 3.5490\n",
            "Epoch 231/500\n",
            "2/2 [==============================] - 0s 9ms/step - loss: 4.4955\n",
            "Epoch 232/500\n",
            "2/2 [==============================] - 0s 5ms/step - loss: 0.7127\n",
            "Epoch 233/500\n",
            "2/2 [==============================] - 0s 6ms/step - loss: 1.5284\n",
            "Epoch 234/500\n",
            "2/2 [==============================] - 0s 7ms/step - loss: 0.7620\n",
            "Epoch 235/500\n",
            "2/2 [==============================] - 0s 6ms/step - loss: 0.5136\n",
            "Epoch 236/500\n",
            "2/2 [==============================] - 0s 6ms/step - loss: 1.4660\n",
            "Epoch 237/500\n",
            "2/2 [==============================] - 0s 6ms/step - loss: 1.9157\n",
            "Epoch 238/500\n",
            "2/2 [==============================] - 0s 5ms/step - loss: 1.5629\n",
            "Epoch 239/500\n",
            "2/2 [==============================] - 0s 6ms/step - loss: 0.7153\n",
            "Epoch 240/500\n",
            "2/2 [==============================] - 0s 6ms/step - loss: 2.6324\n",
            "Epoch 241/500\n",
            "2/2 [==============================] - 0s 6ms/step - loss: 0.9548\n",
            "Epoch 242/500\n",
            "2/2 [==============================] - 0s 7ms/step - loss: 0.7923\n",
            "Epoch 243/500\n",
            "2/2 [==============================] - 0s 8ms/step - loss: 2.7510\n",
            "Epoch 244/500\n",
            "2/2 [==============================] - 0s 6ms/step - loss: 0.2231\n",
            "Epoch 245/500\n",
            "2/2 [==============================] - 0s 6ms/step - loss: 0.7544\n",
            "Epoch 246/500\n",
            "2/2 [==============================] - 0s 6ms/step - loss: 1.4835\n",
            "Epoch 247/500\n",
            "2/2 [==============================] - 0s 6ms/step - loss: 0.1402\n",
            "Epoch 248/500\n",
            "2/2 [==============================] - 0s 8ms/step - loss: 0.8173\n",
            "Epoch 249/500\n",
            "2/2 [==============================] - 0s 6ms/step - loss: 1.5013\n",
            "Epoch 250/500\n",
            "2/2 [==============================] - 0s 7ms/step - loss: 0.5681\n",
            "Epoch 251/500\n",
            "2/2 [==============================] - 0s 6ms/step - loss: 4.3318\n",
            "Epoch 252/500\n",
            "2/2 [==============================] - 0s 8ms/step - loss: 1.7919\n",
            "Epoch 253/500\n",
            "2/2 [==============================] - 0s 7ms/step - loss: 3.3301\n",
            "Epoch 254/500\n",
            "2/2 [==============================] - 0s 5ms/step - loss: 1.6704\n",
            "Epoch 255/500\n",
            "2/2 [==============================] - 0s 7ms/step - loss: 1.2958\n",
            "Epoch 256/500\n",
            "2/2 [==============================] - 0s 6ms/step - loss: 2.8398\n",
            "Epoch 257/500\n",
            "2/2 [==============================] - 0s 5ms/step - loss: 2.5913\n",
            "Epoch 258/500\n",
            "2/2 [==============================] - 0s 7ms/step - loss: 2.6939\n",
            "Epoch 259/500\n",
            "2/2 [==============================] - 0s 6ms/step - loss: 2.9060\n",
            "Epoch 260/500\n",
            "2/2 [==============================] - 0s 5ms/step - loss: 2.5099\n",
            "Epoch 261/500\n",
            "2/2 [==============================] - 0s 6ms/step - loss: 4.3257\n",
            "Epoch 262/500\n",
            "2/2 [==============================] - 0s 6ms/step - loss: 1.5743\n",
            "Epoch 263/500\n",
            "2/2 [==============================] - 0s 7ms/step - loss: 4.4567\n",
            "Epoch 264/500\n",
            "2/2 [==============================] - 0s 7ms/step - loss: 2.0131\n",
            "Epoch 265/500\n",
            "2/2 [==============================] - 0s 8ms/step - loss: 3.1745\n",
            "Epoch 266/500\n",
            "2/2 [==============================] - 0s 5ms/step - loss: 1.0980\n",
            "Epoch 267/500\n",
            "2/2 [==============================] - 0s 5ms/step - loss: 6.1204\n",
            "Epoch 268/500\n",
            "2/2 [==============================] - 0s 5ms/step - loss: 2.2511\n",
            "Epoch 269/500\n",
            "2/2 [==============================] - 0s 7ms/step - loss: 3.6357\n",
            "Epoch 270/500\n",
            "2/2 [==============================] - 0s 6ms/step - loss: 0.5673\n",
            "Epoch 271/500\n",
            "2/2 [==============================] - 0s 9ms/step - loss: 6.1167\n",
            "Epoch 272/500\n",
            "2/2 [==============================] - 0s 5ms/step - loss: 2.8689\n",
            "Epoch 273/500\n",
            "2/2 [==============================] - 0s 9ms/step - loss: 5.8700\n",
            "Epoch 274/500\n",
            "2/2 [==============================] - 0s 5ms/step - loss: 1.6506\n",
            "Epoch 275/500\n",
            "2/2 [==============================] - 0s 5ms/step - loss: 4.3797\n",
            "Epoch 276/500\n",
            "2/2 [==============================] - 0s 6ms/step - loss: 0.9880\n",
            "Epoch 277/500\n",
            "2/2 [==============================] - 0s 6ms/step - loss: 2.7242\n",
            "Epoch 278/500\n",
            "2/2 [==============================] - 0s 6ms/step - loss: 2.0970\n",
            "Epoch 279/500\n",
            "2/2 [==============================] - 0s 8ms/step - loss: 1.5857\n",
            "Epoch 280/500\n",
            "2/2 [==============================] - 0s 5ms/step - loss: 0.5545\n",
            "Epoch 281/500\n",
            "2/2 [==============================] - 0s 6ms/step - loss: 0.7129\n",
            "Epoch 282/500\n",
            "2/2 [==============================] - 0s 5ms/step - loss: 0.9471\n",
            "Epoch 283/500\n",
            "2/2 [==============================] - 0s 6ms/step - loss: 0.4586\n",
            "Epoch 284/500\n",
            "2/2 [==============================] - 0s 7ms/step - loss: 0.5672\n",
            "Epoch 285/500\n",
            "2/2 [==============================] - 0s 6ms/step - loss: 1.5558\n",
            "Epoch 286/500\n",
            "2/2 [==============================] - 0s 4ms/step - loss: 2.5234\n",
            "Epoch 287/500\n",
            "2/2 [==============================] - 0s 5ms/step - loss: 2.2000\n",
            "Epoch 288/500\n",
            "2/2 [==============================] - 0s 5ms/step - loss: 2.8477\n",
            "Epoch 289/500\n",
            "2/2 [==============================] - 0s 5ms/step - loss: 3.9106\n",
            "Epoch 290/500\n",
            "2/2 [==============================] - 0s 5ms/step - loss: 0.6334\n",
            "Epoch 291/500\n",
            "2/2 [==============================] - 0s 5ms/step - loss: 1.2691\n",
            "Epoch 292/500\n",
            "2/2 [==============================] - 0s 8ms/step - loss: 0.7430\n",
            "Epoch 293/500\n",
            "2/2 [==============================] - 0s 5ms/step - loss: 0.6118\n",
            "Epoch 294/500\n",
            "2/2 [==============================] - 0s 6ms/step - loss: 0.6080\n",
            "Epoch 295/500\n",
            "2/2 [==============================] - 0s 11ms/step - loss: 0.7758\n",
            "Epoch 296/500\n",
            "2/2 [==============================] - 0s 5ms/step - loss: 0.5776\n",
            "Epoch 297/500\n",
            "2/2 [==============================] - 0s 10ms/step - loss: 1.7977\n",
            "Epoch 298/500\n",
            "2/2 [==============================] - 0s 6ms/step - loss: 0.9657\n",
            "Epoch 299/500\n",
            "2/2 [==============================] - 0s 5ms/step - loss: 0.7860\n",
            "Epoch 300/500\n",
            "2/2 [==============================] - 0s 5ms/step - loss: 1.8690\n",
            "Epoch 301/500\n",
            "2/2 [==============================] - 0s 9ms/step - loss: 1.3193\n",
            "Epoch 302/500\n",
            "2/2 [==============================] - 0s 8ms/step - loss: 0.9789\n",
            "Epoch 303/500\n",
            "2/2 [==============================] - 0s 7ms/step - loss: 1.6148\n",
            "Epoch 304/500\n",
            "2/2 [==============================] - 0s 16ms/step - loss: 1.4778\n",
            "Epoch 305/500\n",
            "2/2 [==============================] - 0s 6ms/step - loss: 1.1207\n",
            "Epoch 306/500\n",
            "2/2 [==============================] - 0s 5ms/step - loss: 1.0938\n",
            "Epoch 307/500\n",
            "2/2 [==============================] - 0s 8ms/step - loss: 1.1144\n",
            "Epoch 308/500\n",
            "2/2 [==============================] - 0s 6ms/step - loss: 0.8193\n",
            "Epoch 309/500\n",
            "2/2 [==============================] - 0s 5ms/step - loss: 0.2082\n",
            "Epoch 310/500\n",
            "2/2 [==============================] - 0s 6ms/step - loss: 0.4811\n",
            "Epoch 311/500\n",
            "2/2 [==============================] - 0s 6ms/step - loss: 0.6354\n",
            "Epoch 312/500\n",
            "2/2 [==============================] - 0s 6ms/step - loss: 0.1955\n",
            "Epoch 313/500\n",
            "2/2 [==============================] - 0s 6ms/step - loss: 1.0662\n",
            "Epoch 314/500\n",
            "2/2 [==============================] - 0s 6ms/step - loss: 0.3868\n",
            "Epoch 315/500\n",
            "2/2 [==============================] - 0s 5ms/step - loss: 1.5540\n",
            "Epoch 316/500\n",
            "2/2 [==============================] - 0s 5ms/step - loss: 0.8717\n",
            "Epoch 317/500\n",
            "2/2 [==============================] - 0s 5ms/step - loss: 1.2010\n",
            "Epoch 318/500\n",
            "2/2 [==============================] - 0s 5ms/step - loss: 2.9319\n",
            "Epoch 319/500\n",
            "2/2 [==============================] - 0s 6ms/step - loss: 3.4105\n",
            "Epoch 320/500\n",
            "2/2 [==============================] - 0s 6ms/step - loss: 0.6449\n",
            "Epoch 321/500\n",
            "2/2 [==============================] - 0s 6ms/step - loss: 1.1467\n",
            "Epoch 322/500\n",
            "2/2 [==============================] - 0s 9ms/step - loss: 0.7902\n",
            "Epoch 323/500\n",
            "2/2 [==============================] - 0s 6ms/step - loss: 1.9329\n",
            "Epoch 324/500\n",
            "2/2 [==============================] - 0s 6ms/step - loss: 1.0973\n",
            "Epoch 325/500\n",
            "2/2 [==============================] - 0s 7ms/step - loss: 2.2547\n",
            "Epoch 326/500\n",
            "2/2 [==============================] - 0s 11ms/step - loss: 0.6415\n",
            "Epoch 327/500\n",
            "2/2 [==============================] - 0s 5ms/step - loss: 3.1506\n",
            "Epoch 328/500\n",
            "2/2 [==============================] - 0s 5ms/step - loss: 0.9349\n",
            "Epoch 329/500\n",
            "2/2 [==============================] - 0s 6ms/step - loss: 3.5917\n",
            "Epoch 330/500\n",
            "2/2 [==============================] - 0s 5ms/step - loss: 1.7723\n",
            "Epoch 331/500\n",
            "2/2 [==============================] - 0s 5ms/step - loss: 1.0921\n",
            "Epoch 332/500\n",
            "2/2 [==============================] - 0s 5ms/step - loss: 1.2791\n",
            "Epoch 333/500\n",
            "2/2 [==============================] - 0s 6ms/step - loss: 0.7056\n",
            "Epoch 334/500\n",
            "2/2 [==============================] - 0s 6ms/step - loss: 3.1089\n",
            "Epoch 335/500\n",
            "2/2 [==============================] - 0s 9ms/step - loss: 1.1922\n",
            "Epoch 336/500\n",
            "2/2 [==============================] - 0s 5ms/step - loss: 1.8553\n",
            "Epoch 337/500\n",
            "2/2 [==============================] - 0s 8ms/step - loss: 1.4204\n",
            "Epoch 338/500\n",
            "2/2 [==============================] - 0s 6ms/step - loss: 1.2246\n",
            "Epoch 339/500\n",
            "2/2 [==============================] - 0s 4ms/step - loss: 0.8159\n",
            "Epoch 340/500\n",
            "2/2 [==============================] - 0s 10ms/step - loss: 1.0325\n",
            "Epoch 341/500\n",
            "2/2 [==============================] - 0s 4ms/step - loss: 1.4470\n",
            "Epoch 342/500\n",
            "2/2 [==============================] - 0s 5ms/step - loss: 1.2623\n",
            "Epoch 343/500\n",
            "2/2 [==============================] - 0s 5ms/step - loss: 1.6317\n",
            "Epoch 344/500\n",
            "2/2 [==============================] - 0s 5ms/step - loss: 0.2868\n",
            "Epoch 345/500\n",
            "2/2 [==============================] - 0s 8ms/step - loss: 1.4583\n",
            "Epoch 346/500\n",
            "2/2 [==============================] - 0s 5ms/step - loss: 0.8041\n",
            "Epoch 347/500\n",
            "2/2 [==============================] - 0s 6ms/step - loss: 1.0825\n",
            "Epoch 348/500\n",
            "2/2 [==============================] - 0s 5ms/step - loss: 0.9746\n",
            "Epoch 349/500\n",
            "2/2 [==============================] - 0s 20ms/step - loss: 0.7313\n",
            "Epoch 350/500\n",
            "2/2 [==============================] - 0s 8ms/step - loss: 1.2025\n",
            "Epoch 351/500\n",
            "2/2 [==============================] - 0s 7ms/step - loss: 0.5831\n",
            "Epoch 352/500\n",
            "2/2 [==============================] - 0s 7ms/step - loss: 0.6887\n",
            "Epoch 353/500\n",
            "2/2 [==============================] - 0s 12ms/step - loss: 0.9575\n",
            "Epoch 354/500\n",
            "2/2 [==============================] - 0s 5ms/step - loss: 0.4151\n",
            "Epoch 355/500\n",
            "2/2 [==============================] - 0s 5ms/step - loss: 0.6029\n",
            "Epoch 356/500\n",
            "2/2 [==============================] - 0s 5ms/step - loss: 1.7481\n",
            "Epoch 357/500\n",
            "2/2 [==============================] - 0s 5ms/step - loss: 1.4904\n",
            "Epoch 358/500\n",
            "2/2 [==============================] - 0s 5ms/step - loss: 1.1597\n",
            "Epoch 359/500\n",
            "2/2 [==============================] - 0s 5ms/step - loss: 1.8554\n",
            "Epoch 360/500\n",
            "2/2 [==============================] - 0s 5ms/step - loss: 0.5479\n",
            "Epoch 361/500\n",
            "2/2 [==============================] - 0s 5ms/step - loss: 0.5546\n",
            "Epoch 362/500\n",
            "2/2 [==============================] - 0s 5ms/step - loss: 1.5601\n",
            "Epoch 363/500\n",
            "2/2 [==============================] - 0s 8ms/step - loss: 2.0310\n",
            "Epoch 364/500\n",
            "2/2 [==============================] - 0s 5ms/step - loss: 1.5086\n",
            "Epoch 365/500\n",
            "2/2 [==============================] - 0s 5ms/step - loss: 1.4178\n",
            "Epoch 366/500\n",
            "2/2 [==============================] - 0s 7ms/step - loss: 0.7399\n",
            "Epoch 367/500\n",
            "2/2 [==============================] - 0s 6ms/step - loss: 0.7732\n",
            "Epoch 368/500\n",
            "2/2 [==============================] - 0s 6ms/step - loss: 0.4036\n",
            "Epoch 369/500\n",
            "2/2 [==============================] - 0s 7ms/step - loss: 1.3518\n",
            "Epoch 370/500\n",
            "2/2 [==============================] - 0s 6ms/step - loss: 2.1538\n",
            "Epoch 371/500\n",
            "2/2 [==============================] - 0s 9ms/step - loss: 1.7846\n",
            "Epoch 372/500\n",
            "2/2 [==============================] - 0s 6ms/step - loss: 1.7181\n",
            "Epoch 373/500\n",
            "2/2 [==============================] - 0s 5ms/step - loss: 0.7081\n",
            "Epoch 374/500\n",
            "2/2 [==============================] - 0s 6ms/step - loss: 3.6445\n",
            "Epoch 375/500\n",
            "2/2 [==============================] - 0s 4ms/step - loss: 2.1847\n",
            "Epoch 376/500\n",
            "2/2 [==============================] - 0s 5ms/step - loss: 2.9755\n",
            "Epoch 377/500\n",
            "2/2 [==============================] - 0s 5ms/step - loss: 3.7806\n",
            "Epoch 378/500\n",
            "2/2 [==============================] - 0s 5ms/step - loss: 0.3972\n",
            "Epoch 379/500\n",
            "2/2 [==============================] - 0s 6ms/step - loss: 0.7321\n",
            "Epoch 380/500\n",
            "2/2 [==============================] - 0s 6ms/step - loss: 1.2250\n",
            "Epoch 381/500\n",
            "2/2 [==============================] - 0s 5ms/step - loss: 0.4827\n",
            "Epoch 382/500\n",
            "2/2 [==============================] - 0s 5ms/step - loss: 0.5051\n",
            "Epoch 383/500\n",
            "2/2 [==============================] - 0s 5ms/step - loss: 1.5298\n",
            "Epoch 384/500\n",
            "2/2 [==============================] - 0s 5ms/step - loss: 1.4896\n",
            "Epoch 385/500\n",
            "2/2 [==============================] - 0s 5ms/step - loss: 0.9750\n",
            "Epoch 386/500\n",
            "2/2 [==============================] - 0s 7ms/step - loss: 0.9627\n",
            "Epoch 387/500\n",
            "2/2 [==============================] - 0s 5ms/step - loss: 0.4697\n",
            "Epoch 388/500\n",
            "2/2 [==============================] - 0s 6ms/step - loss: 0.3451\n",
            "Epoch 389/500\n",
            "2/2 [==============================] - 0s 6ms/step - loss: 0.2255\n",
            "Epoch 390/500\n",
            "2/2 [==============================] - 0s 5ms/step - loss: 0.5191\n",
            "Epoch 391/500\n",
            "2/2 [==============================] - 0s 5ms/step - loss: 1.8546\n",
            "Epoch 392/500\n",
            "2/2 [==============================] - 0s 6ms/step - loss: 0.9936\n",
            "Epoch 393/500\n",
            "2/2 [==============================] - 0s 5ms/step - loss: 0.6782\n",
            "Epoch 394/500\n",
            "2/2 [==============================] - 0s 6ms/step - loss: 2.4923\n",
            "Epoch 395/500\n",
            "2/2 [==============================] - 0s 6ms/step - loss: 0.7927\n",
            "Epoch 396/500\n",
            "2/2 [==============================] - 0s 6ms/step - loss: 3.8113\n",
            "Epoch 397/500\n",
            "2/2 [==============================] - 0s 5ms/step - loss: 1.5657\n",
            "Epoch 398/500\n",
            "2/2 [==============================] - 0s 5ms/step - loss: 2.0944\n",
            "Epoch 399/500\n",
            "2/2 [==============================] - 0s 5ms/step - loss: 0.7960\n",
            "Epoch 400/500\n",
            "2/2 [==============================] - 0s 5ms/step - loss: 2.8336\n",
            "Epoch 401/500\n",
            "2/2 [==============================] - 0s 5ms/step - loss: 0.3444\n",
            "Epoch 402/500\n",
            "2/2 [==============================] - 0s 5ms/step - loss: 0.4174\n",
            "Epoch 403/500\n",
            "2/2 [==============================] - 0s 5ms/step - loss: 1.3125\n",
            "Epoch 404/500\n",
            "2/2 [==============================] - 0s 5ms/step - loss: 0.3653\n",
            "Epoch 405/500\n",
            "2/2 [==============================] - 0s 6ms/step - loss: 0.5695\n",
            "Epoch 406/500\n",
            "2/2 [==============================] - 0s 6ms/step - loss: 1.3513\n",
            "Epoch 407/500\n",
            "2/2 [==============================] - 0s 6ms/step - loss: 0.1560\n",
            "Epoch 408/500\n",
            "2/2 [==============================] - 0s 9ms/step - loss: 1.1902\n",
            "Epoch 409/500\n",
            "2/2 [==============================] - 0s 6ms/step - loss: 0.5078\n",
            "Epoch 410/500\n",
            "2/2 [==============================] - 0s 6ms/step - loss: 0.2981\n",
            "Epoch 411/500\n",
            "2/2 [==============================] - 0s 5ms/step - loss: 0.4511\n",
            "Epoch 412/500\n",
            "2/2 [==============================] - 0s 5ms/step - loss: 0.3727\n",
            "Epoch 413/500\n",
            "2/2 [==============================] - 0s 5ms/step - loss: 0.5156\n",
            "Epoch 414/500\n",
            "2/2 [==============================] - 0s 5ms/step - loss: 0.5121\n",
            "Epoch 415/500\n",
            "2/2 [==============================] - 0s 5ms/step - loss: 0.6864\n",
            "Epoch 416/500\n",
            "2/2 [==============================] - 0s 230ms/step - loss: 0.3457\n",
            "Epoch 417/500\n",
            "2/2 [==============================] - 0s 5ms/step - loss: 0.4834\n",
            "Epoch 418/500\n",
            "2/2 [==============================] - 0s 5ms/step - loss: 0.5579\n",
            "Epoch 419/500\n",
            "2/2 [==============================] - 0s 5ms/step - loss: 0.4504\n",
            "Epoch 420/500\n",
            "2/2 [==============================] - 0s 5ms/step - loss: 0.1838\n",
            "Epoch 421/500\n",
            "2/2 [==============================] - 0s 5ms/step - loss: 0.4120\n",
            "Epoch 422/500\n",
            "2/2 [==============================] - 0s 5ms/step - loss: 0.3716\n",
            "Epoch 423/500\n",
            "2/2 [==============================] - 0s 5ms/step - loss: 0.3700\n",
            "Epoch 424/500\n",
            "2/2 [==============================] - 0s 5ms/step - loss: 1.2820\n",
            "Epoch 425/500\n",
            "2/2 [==============================] - 0s 5ms/step - loss: 2.4121\n",
            "Epoch 426/500\n",
            "2/2 [==============================] - 0s 17ms/step - loss: 2.5606\n",
            "Epoch 427/500\n",
            "2/2 [==============================] - 0s 7ms/step - loss: 1.5961\n",
            "Epoch 428/500\n",
            "2/2 [==============================] - 0s 5ms/step - loss: 1.7953\n",
            "Epoch 429/500\n",
            "2/2 [==============================] - 0s 5ms/step - loss: 2.7237\n",
            "Epoch 430/500\n",
            "2/2 [==============================] - 0s 5ms/step - loss: 3.4160\n",
            "Epoch 431/500\n",
            "2/2 [==============================] - 0s 5ms/step - loss: 0.4853\n",
            "Epoch 432/500\n",
            "2/2 [==============================] - 0s 5ms/step - loss: 0.8823\n",
            "Epoch 433/500\n",
            "2/2 [==============================] - 0s 5ms/step - loss: 1.0791\n",
            "Epoch 434/500\n",
            "2/2 [==============================] - 0s 5ms/step - loss: 2.3267\n",
            "Epoch 435/500\n",
            "2/2 [==============================] - 0s 5ms/step - loss: 2.2751\n",
            "Epoch 436/500\n",
            "2/2 [==============================] - 0s 5ms/step - loss: 2.2736\n",
            "Epoch 437/500\n",
            "2/2 [==============================] - 0s 6ms/step - loss: 3.8959\n",
            "Epoch 438/500\n",
            "2/2 [==============================] - 0s 5ms/step - loss: 1.4602\n",
            "Epoch 439/500\n",
            "2/2 [==============================] - 0s 5ms/step - loss: 1.3978\n",
            "Epoch 440/500\n",
            "2/2 [==============================] - 0s 5ms/step - loss: 2.4460\n",
            "Epoch 441/500\n",
            "2/2 [==============================] - 0s 5ms/step - loss: 1.8209\n",
            "Epoch 442/500\n",
            "2/2 [==============================] - 0s 5ms/step - loss: 0.7899\n",
            "Epoch 443/500\n",
            "2/2 [==============================] - 0s 5ms/step - loss: 0.7883\n",
            "Epoch 444/500\n",
            "2/2 [==============================] - 0s 5ms/step - loss: 1.1967\n",
            "Epoch 445/500\n",
            "2/2 [==============================] - 0s 5ms/step - loss: 2.2550\n",
            "Epoch 446/500\n",
            "2/2 [==============================] - 0s 4ms/step - loss: 0.3075\n",
            "Epoch 447/500\n",
            "2/2 [==============================] - 0s 5ms/step - loss: 0.4310\n",
            "Epoch 448/500\n",
            "2/2 [==============================] - 0s 5ms/step - loss: 2.5706\n",
            "Epoch 449/500\n",
            "2/2 [==============================] - 0s 5ms/step - loss: 0.9161\n",
            "Epoch 450/500\n",
            "2/2 [==============================] - 0s 6ms/step - loss: 3.5702\n",
            "Epoch 451/500\n",
            "2/2 [==============================] - 0s 5ms/step - loss: 1.3168\n",
            "Epoch 452/500\n",
            "2/2 [==============================] - 0s 5ms/step - loss: 1.7877\n",
            "Epoch 453/500\n",
            "2/2 [==============================] - 0s 5ms/step - loss: 1.5893\n",
            "Epoch 454/500\n",
            "2/2 [==============================] - 0s 5ms/step - loss: 1.1062\n",
            "Epoch 455/500\n",
            "2/2 [==============================] - 0s 5ms/step - loss: 1.8976\n",
            "Epoch 456/500\n",
            "2/2 [==============================] - 0s 5ms/step - loss: 0.5533\n",
            "Epoch 457/500\n",
            "2/2 [==============================] - 0s 5ms/step - loss: 0.4829\n",
            "Epoch 458/500\n",
            "2/2 [==============================] - 0s 5ms/step - loss: 1.9348\n",
            "Epoch 459/500\n",
            "2/2 [==============================] - 0s 5ms/step - loss: 1.2199\n",
            "Epoch 460/500\n",
            "2/2 [==============================] - 0s 6ms/step - loss: 1.1616\n",
            "Epoch 461/500\n",
            "2/2 [==============================] - 0s 6ms/step - loss: 1.6261\n",
            "Epoch 462/500\n",
            "2/2 [==============================] - 0s 6ms/step - loss: 0.4194\n",
            "Epoch 463/500\n",
            "2/2 [==============================] - 0s 5ms/step - loss: 0.6519\n",
            "Epoch 464/500\n",
            "2/2 [==============================] - 0s 5ms/step - loss: 0.6732\n",
            "Epoch 465/500\n",
            "2/2 [==============================] - 0s 5ms/step - loss: 1.0136\n",
            "Epoch 466/500\n",
            "2/2 [==============================] - 0s 6ms/step - loss: 0.4075\n",
            "Epoch 467/500\n",
            "2/2 [==============================] - 0s 5ms/step - loss: 0.3596\n",
            "Epoch 468/500\n",
            "2/2 [==============================] - 0s 5ms/step - loss: 0.1337\n",
            "Epoch 469/500\n",
            "2/2 [==============================] - 0s 6ms/step - loss: 1.0417\n",
            "Epoch 470/500\n",
            "2/2 [==============================] - 0s 5ms/step - loss: 0.4056\n",
            "Epoch 471/500\n",
            "2/2 [==============================] - 0s 5ms/step - loss: 0.7389\n",
            "Epoch 472/500\n",
            "2/2 [==============================] - 0s 5ms/step - loss: 0.1774\n",
            "Epoch 473/500\n",
            "2/2 [==============================] - 0s 7ms/step - loss: 0.4467\n",
            "Epoch 474/500\n",
            "2/2 [==============================] - 0s 5ms/step - loss: 1.0678\n",
            "Epoch 475/500\n",
            "2/2 [==============================] - 0s 6ms/step - loss: 0.3284\n",
            "Epoch 476/500\n",
            "2/2 [==============================] - 0s 5ms/step - loss: 0.3126\n",
            "Epoch 477/500\n",
            "2/2 [==============================] - 0s 5ms/step - loss: 0.5727\n",
            "Epoch 478/500\n",
            "2/2 [==============================] - 0s 5ms/step - loss: 1.1476\n",
            "Epoch 479/500\n",
            "2/2 [==============================] - 0s 5ms/step - loss: 0.4607\n",
            "Epoch 480/500\n",
            "2/2 [==============================] - 0s 4ms/step - loss: 1.1066\n",
            "Epoch 481/500\n",
            "2/2 [==============================] - 0s 4ms/step - loss: 1.8489\n",
            "Epoch 482/500\n",
            "2/2 [==============================] - 0s 4ms/step - loss: 1.1457\n",
            "Epoch 483/500\n",
            "2/2 [==============================] - 0s 4ms/step - loss: 1.5485\n",
            "Epoch 484/500\n",
            "2/2 [==============================] - 0s 4ms/step - loss: 1.1491\n",
            "Epoch 485/500\n",
            "2/2 [==============================] - 0s 4ms/step - loss: 1.0082\n",
            "Epoch 486/500\n",
            "2/2 [==============================] - 0s 4ms/step - loss: 1.1459\n",
            "Epoch 487/500\n",
            "2/2 [==============================] - 0s 4ms/step - loss: 1.0224\n",
            "Epoch 488/500\n",
            "2/2 [==============================] - 0s 5ms/step - loss: 0.5149\n",
            "Epoch 489/500\n",
            "2/2 [==============================] - 0s 4ms/step - loss: 0.2021\n",
            "Epoch 490/500\n",
            "2/2 [==============================] - 0s 4ms/step - loss: 0.4524\n",
            "Epoch 491/500\n",
            "2/2 [==============================] - 0s 4ms/step - loss: 0.5944\n",
            "Epoch 492/500\n",
            "2/2 [==============================] - 0s 5ms/step - loss: 1.3064\n",
            "Epoch 493/500\n",
            "2/2 [==============================] - 0s 5ms/step - loss: 1.6267\n",
            "Epoch 494/500\n",
            "2/2 [==============================] - 0s 6ms/step - loss: 1.3259\n",
            "Epoch 495/500\n",
            "2/2 [==============================] - 0s 5ms/step - loss: 0.9778\n",
            "Epoch 496/500\n",
            "2/2 [==============================] - 0s 5ms/step - loss: 1.0713\n",
            "Epoch 497/500\n",
            "2/2 [==============================] - 0s 5ms/step - loss: 0.1125\n",
            "Epoch 498/500\n",
            "2/2 [==============================] - 0s 6ms/step - loss: 1.4062\n",
            "Epoch 499/500\n",
            "2/2 [==============================] - 0s 272ms/step - loss: 0.3780\n",
            "Epoch 500/500\n",
            "2/2 [==============================] - 0s 5ms/step - loss: 3.2504\n"
          ]
        },
        {
          "output_type": "execute_result",
          "data": {
            "text/plain": [
              "<keras.callbacks.History at 0x7ff3c2ff66d0>"
            ]
          },
          "metadata": {},
          "execution_count": 225
        }
      ]
    },
    {
      "cell_type": "code",
      "source": [
        "# Predict the model\n",
        "y_preds_3 = tf.squeeze(model_3.predict(y_test))\n",
        "y_preds_3\n"
      ],
      "metadata": {
        "colab": {
          "base_uri": "https://localhost:8080/"
        },
        "id": "7VwUWtiR_ZJv",
        "outputId": "a30bb084-068e-44ca-8c14-dbec57fb6cfe"
      },
      "execution_count": 230,
      "outputs": [
        {
          "output_type": "execute_result",
          "data": {
            "text/plain": [
              "<tf.Tensor: shape=(10,), dtype=float32, numpy=\n",
              "array([ 76.62804 ,  80.45552 ,  84.28301 ,  88.1105  ,  91.93798 ,\n",
              "        95.76548 ,  99.59297 , 103.420456, 107.24793 , 111.07543 ],\n",
              "      dtype=float32)>"
            ]
          },
          "metadata": {},
          "execution_count": 230
        }
      ]
    },
    {
      "cell_type": "code",
      "source": [
        "# Plot the predicted and test data\n",
        "plot_predictions(predictions=y_preds_3)"
      ],
      "metadata": {
        "colab": {
          "base_uri": "https://localhost:8080/",
          "height": 428
        },
        "id": "xRULzLJO_y1_",
        "outputId": "b0d9f0c0-4f41-4d0c-ece8-0441734da855"
      },
      "execution_count": 231,
      "outputs": [
        {
          "output_type": "display_data",
          "data": {
            "text/plain": [
              "<Figure size 720x504 with 1 Axes>"
            ],
            "image/png": "[encoded data removed]"
          },
          "metadata": {
            "needs_background": "light"
          }
        }
      ]
    },
    {
      "cell_type": "code",
      "source": [
        "mae_3 = mae(y_test,y_preds_3)\n",
        "mse_3 = mse(y_test,y_preds_3)\n"
      ],
      "metadata": {
        "id": "AJ_TNZnbASrE"
      },
      "execution_count": 232,
      "outputs": []
    },
    {
      "cell_type": "markdown",
      "source": [
        "Comparing the model"
      ],
      "metadata": {
        "id": "gHx0CcILAuZH"
      }
    },
    {
      "cell_type": "code",
      "source": [
        "import pandas as pd\n",
        "\n",
        "model_results = [['model_1',mae_1.numpy(),mse_1.numpy()],\n",
        "                 ['model_2',mae_2.numpy(),mse_2.numpy()],\n",
        "                 ['model_1',mae_3.numpy(),mse_3.numpy()],\n",
        "                 ]\n",
        "all_results = pd.DataFrame(model_results,columns=['model','mae','mse'])"
      ],
      "metadata": {
        "id": "Pb1dG-F9BwEm"
      },
      "execution_count": 235,
      "outputs": []
    },
    {
      "cell_type": "code",
      "source": [
        "all_results"
      ],
      "metadata": {
        "colab": {
          "base_uri": "https://localhost:8080/",
          "height": 143
        },
        "id": "Os-gaFynCWGY",
        "outputId": "252ad6a4-f176-446e-a166-f586578069e6"
      },
      "execution_count": 237,
      "outputs": [
        {
          "output_type": "execute_result",
          "data": {
            "text/plain": [
              "     model       mae        mse\n",
              "0  model_1  5.114216  26.878597\n",
              "1  model_2  3.140954  10.072696\n",
              "2  model_1  5.851732  34.488289"
            ],
            "text/html": [
              "\n",
              "  <div id=\"df-c645a05a-9b8a-4738-818d-4723166b88b5\">\n",
              "    <div class=\"colab-df-container\">\n",
              "      <div>\n",
              "<style scoped>\n",
              "    .dataframe tbody tr th:only-of-type {\n",
              "        vertical-align: middle;\n",
              "    }\n",
              "\n",
              "    .dataframe tbody tr th {\n",
              "        vertical-align: top;\n",
              "    }\n",
              "\n",
              "    .dataframe thead th {\n",
              "        text-align: right;\n",
              "    }\n",
              "</style>\n",
              "<table border=\"1\" class=\"dataframe\">\n",
              "  <thead>\n",
              "    <tr style=\"text-align: right;\">\n",
              "      <th></th>\n",
              "      <th>model</th>\n",
              "      <th>mae</th>\n",
              "      <th>mse</th>\n",
              "    </tr>\n",
              "  </thead>\n",
              "  <tbody>\n",
              "    <tr>\n",
              "      <th>0</th>\n",
              "      <td>model_1</td>\n",
              "      <td>5.114216</td>\n",
              "      <td>26.878597</td>\n",
              "    </tr>\n",
              "    <tr>\n",
              "      <th>1</th>\n",
              "      <td>model_2</td>\n",
              "      <td>3.140954</td>\n",
              "      <td>10.072696</td>\n",
              "    </tr>\n",
              "    <tr>\n",
              "      <th>2</th>\n",
              "      <td>model_1</td>\n",
              "      <td>5.851732</td>\n",
              "      <td>34.488289</td>\n",
              "    </tr>\n",
              "  </tbody>\n",
              "</table>\n",
              "</div>\n",
              "      <button class=\"colab-df-convert\" onclick=\"convertToInteractive('df-c645a05a-9b8a-4738-818d-4723166b88b5')\"\n",
              "              title=\"Convert this dataframe to an interactive table.\"\n",
              "              style=\"display:none;\">\n",
              "        \n",
              "  <svg xmlns=\"http://www.w3.org/2000/svg\" height=\"24px\"viewBox=\"0 0 24 24\"\n",
              "       width=\"24px\">\n",
              "    <path d=\"M0 0h24v24H0V0z\" fill=\"none\"/>\n",
              "    <path d=\"M18.56 5.44l.94 2.06.94-2.06 2.06-.94-2.06-.94-.94-2.06-.94 2.06-2.06.94zm-11 1L8.5 8.5l.94-2.06 2.06-.94-2.06-.94L8.5 2.5l-.94 2.06-2.06.94zm10 10l.94 2.06.94-2.06 2.06-.94-2.06-.94-.94-2.06-.94 2.06-2.06.94z\"/><path d=\"M17.41 7.96l-1.37-1.37c-.4-.4-.92-.59-1.43-.59-.52 0-1.04.2-1.43.59L10.3 9.45l-7.72 7.72c-.78.78-.78 2.05 0 2.83L4 21.41c.39.39.9.59 1.41.59.51 0 1.02-.2 1.41-.59l7.78-7.78 2.81-2.81c.8-.78.8-2.07 0-2.86zM5.41 20L4 18.59l7.72-7.72 1.47 1.35L5.41 20z\"/>\n",
              "  </svg>\n",
              "      </button>\n",
              "      \n",
              "  <style>\n",
              "    .colab-df-container {\n",
              "      display:flex;\n",
              "      flex-wrap:wrap;\n",
              "      gap: 12px;\n",
              "    }\n",
              "\n",
              "    .colab-df-convert {\n",
              "      background-color: #E8F0FE;\n",
              "      border: none;\n",
              "      border-radius: 50%;\n",
              "      cursor: pointer;\n",
              "      display: none;\n",
              "      fill: #1967D2;\n",
              "      height: 32px;\n",
              "      padding: 0 0 0 0;\n",
              "      width: 32px;\n",
              "    }\n",
              "\n",
              "    .colab-df-convert:hover {\n",
              "      background-color: #E2EBFA;\n",
              "      box-shadow: 0px 1px 2px rgba(60, 64, 67, 0.3), 0px 1px 3px 1px rgba(60, 64, 67, 0.15);\n",
              "      fill: #174EA6;\n",
              "    }\n",
              "\n",
              "    [theme=dark] .colab-df-convert {\n",
              "      background-color: #3B4455;\n",
              "      fill: #D2E3FC;\n",
              "    }\n",
              "\n",
              "    [theme=dark] .colab-df-convert:hover {\n",
              "      background-color: #434B5C;\n",
              "      box-shadow: 0px 1px 3px 1px rgba(0, 0, 0, 0.15);\n",
              "      filter: drop-shadow(0px 1px 2px rgba(0, 0, 0, 0.3));\n",
              "      fill: #FFFFFF;\n",
              "    }\n",
              "  </style>\n",
              "\n",
              "      <script>\n",
              "        const buttonEl =\n",
              "          document.querySelector('#df-c645a05a-9b8a-4738-818d-4723166b88b5 button.colab-df-convert');\n",
              "        buttonEl.style.display =\n",
              "          google.colab.kernel.accessAllowed ? 'block' : 'none';\n",
              "\n",
              "        async function convertToInteractive(key) {\n",
              "          const element = document.querySelector('#df-c645a05a-9b8a-4738-818d-4723166b88b5');\n",
              "          const dataTable =\n",
              "            await google.colab.kernel.invokeFunction('convertToInteractive',\n",
              "                                                     [key], {});\n",
              "          if (!dataTable) return;\n",
              "\n",
              "          const docLinkHtml = 'Like what you see? Visit the ' +\n",
              "            '<a target=\"_blank\" href=https://colab.research.google.com/notebooks/data_table.ipynb>data table notebook</a>'\n",
              "            + ' to learn more about interactive tables.';\n",
              "          element.innerHTML = '';\n",
              "          dataTable['output_type'] = 'display_data';\n",
              "          await google.colab.output.renderOutput(dataTable, element);\n",
              "          const docLink = document.createElement('div');\n",
              "          docLink.innerHTML = docLinkHtml;\n",
              "          element.appendChild(docLink);\n",
              "        }\n",
              "      </script>\n",
              "    </div>\n",
              "  </div>\n",
              "  "
            ]
          },
          "metadata": {},
          "execution_count": 237
        }
      ]
    },
    {
      "cell_type": "code",
      "source": [
        "  "
      ],
      "metadata": {
        "id": "HsnUo7F8CY2l"
      },
      "execution_count": null,
      "outputs": []
    }
  ]
}